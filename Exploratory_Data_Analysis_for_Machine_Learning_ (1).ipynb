{
 "cells": [
  {
   "cell_type": "markdown",
   "metadata": {
    "id": "B3eDnMkx1nwy"
   },
   "source": [
    "Required\n",
    "Once you have selected a data set, you will produce the deliverables listed below and submit them to one of your peers for review.Treat this exercise as an opportunity to produce analysis that are ready to highlight your analytical skills for a senior audience, for example, the Chief Data Officer, or \n",
    "\n",
    "---\n",
    "\n",
    "the Head of Analytics at your company.\n",
    "\n",
    "---\n",
    "\n",
    "\n",
    "Sections required in your report:\n",
    "\n",
    "- Brief description of the data set and a summary of its attributes /\n",
    "\n",
    "- Initial plan for data exploration /\n",
    "\n",
    "- Actions taken for data cleaning and feature engineering\n",
    "\n",
    "- Key Findings and Insights, which synthesizes the results of Exploratory Data Analysis in an insightful and actionable manner /\n",
    "\n",
    "- Formulating at least 3 hypothesis about this data\n",
    "\n",
    "- Conducting a formal significance test for one of the hypotheses and discuss the results \n",
    "\n",
    "- Suggestions for next steps in analyzing this data\n",
    "\n",
    " A paragraph that summarizes the quality of this data set and a request for additional data if needed"
   ]
  },
  {
   "cell_type": "markdown",
   "metadata": {
    "id": "QmbjAiFI5YbY"
   },
   "source": [
    "Home Credit strives to broaden financial inclusion for the unbanked population by providing a positive and safe borrowing experience. In order to make sure this underserved population has a positive loan experience, Home Credit makes use of a variety of alternative data--including telco and transactional information--to predict their clients' repayment abilities.\n",
    "\n",
    "While Home Credit is currently using various statistical and machine learning methods to make these predictions, they're challenging Kagglers to help them unlock the full potential of their data. Doing so will ensure that clients capable of repayment are not rejected and that loans are given with a principal, maturity, and repayment calendar that will empower their clients to be successful."
   ]
  },
  {
   "cell_type": "code",
   "execution_count": 1,
   "metadata": {
    "id": "YVj-fyzh2KTR"
   },
   "outputs": [],
   "source": [
    "import pandas as pd\n",
    "import numpy as np\n",
    "import matplotlib.pylab as plt\n",
    "import seaborn as sns"
   ]
  },
  {
   "cell_type": "code",
   "execution_count": 3,
   "metadata": {
    "id": "IgH1t5t_44Wh"
   },
   "outputs": [
    {
     "data": {
      "text/html": [
       "<div>\n",
       "<style scoped>\n",
       "    .dataframe tbody tr th:only-of-type {\n",
       "        vertical-align: middle;\n",
       "    }\n",
       "\n",
       "    .dataframe tbody tr th {\n",
       "        vertical-align: top;\n",
       "    }\n",
       "\n",
       "    .dataframe thead th {\n",
       "        text-align: right;\n",
       "    }\n",
       "</style>\n",
       "<table border=\"1\" class=\"dataframe\">\n",
       "  <thead>\n",
       "    <tr style=\"text-align: right;\">\n",
       "      <th></th>\n",
       "      <th>SK_ID_CURR</th>\n",
       "      <th>TARGET</th>\n",
       "      <th>NAME_CONTRACT_TYPE</th>\n",
       "      <th>CODE_GENDER</th>\n",
       "      <th>FLAG_OWN_CAR</th>\n",
       "      <th>FLAG_OWN_REALTY</th>\n",
       "      <th>CNT_CHILDREN</th>\n",
       "      <th>AMT_INCOME_TOTAL</th>\n",
       "      <th>AMT_CREDIT</th>\n",
       "      <th>AMT_ANNUITY</th>\n",
       "      <th>...</th>\n",
       "      <th>FLAG_DOCUMENT_18</th>\n",
       "      <th>FLAG_DOCUMENT_19</th>\n",
       "      <th>FLAG_DOCUMENT_20</th>\n",
       "      <th>FLAG_DOCUMENT_21</th>\n",
       "      <th>AMT_REQ_CREDIT_BUREAU_HOUR</th>\n",
       "      <th>AMT_REQ_CREDIT_BUREAU_DAY</th>\n",
       "      <th>AMT_REQ_CREDIT_BUREAU_WEEK</th>\n",
       "      <th>AMT_REQ_CREDIT_BUREAU_MON</th>\n",
       "      <th>AMT_REQ_CREDIT_BUREAU_QRT</th>\n",
       "      <th>AMT_REQ_CREDIT_BUREAU_YEAR</th>\n",
       "    </tr>\n",
       "  </thead>\n",
       "  <tbody>\n",
       "    <tr>\n",
       "      <th>0</th>\n",
       "      <td>100002</td>\n",
       "      <td>1</td>\n",
       "      <td>Cash loans</td>\n",
       "      <td>M</td>\n",
       "      <td>N</td>\n",
       "      <td>Y</td>\n",
       "      <td>0</td>\n",
       "      <td>202500.0</td>\n",
       "      <td>406597.5</td>\n",
       "      <td>24700.5</td>\n",
       "      <td>...</td>\n",
       "      <td>0</td>\n",
       "      <td>0</td>\n",
       "      <td>0</td>\n",
       "      <td>0</td>\n",
       "      <td>0.0</td>\n",
       "      <td>0.0</td>\n",
       "      <td>0.0</td>\n",
       "      <td>0.0</td>\n",
       "      <td>0.0</td>\n",
       "      <td>1.0</td>\n",
       "    </tr>\n",
       "    <tr>\n",
       "      <th>1</th>\n",
       "      <td>100003</td>\n",
       "      <td>0</td>\n",
       "      <td>Cash loans</td>\n",
       "      <td>F</td>\n",
       "      <td>N</td>\n",
       "      <td>N</td>\n",
       "      <td>0</td>\n",
       "      <td>270000.0</td>\n",
       "      <td>1293502.5</td>\n",
       "      <td>35698.5</td>\n",
       "      <td>...</td>\n",
       "      <td>0</td>\n",
       "      <td>0</td>\n",
       "      <td>0</td>\n",
       "      <td>0</td>\n",
       "      <td>0.0</td>\n",
       "      <td>0.0</td>\n",
       "      <td>0.0</td>\n",
       "      <td>0.0</td>\n",
       "      <td>0.0</td>\n",
       "      <td>0.0</td>\n",
       "    </tr>\n",
       "    <tr>\n",
       "      <th>2</th>\n",
       "      <td>100004</td>\n",
       "      <td>0</td>\n",
       "      <td>Revolving loans</td>\n",
       "      <td>M</td>\n",
       "      <td>Y</td>\n",
       "      <td>Y</td>\n",
       "      <td>0</td>\n",
       "      <td>67500.0</td>\n",
       "      <td>135000.0</td>\n",
       "      <td>6750.0</td>\n",
       "      <td>...</td>\n",
       "      <td>0</td>\n",
       "      <td>0</td>\n",
       "      <td>0</td>\n",
       "      <td>0</td>\n",
       "      <td>0.0</td>\n",
       "      <td>0.0</td>\n",
       "      <td>0.0</td>\n",
       "      <td>0.0</td>\n",
       "      <td>0.0</td>\n",
       "      <td>0.0</td>\n",
       "    </tr>\n",
       "    <tr>\n",
       "      <th>3</th>\n",
       "      <td>100006</td>\n",
       "      <td>0</td>\n",
       "      <td>Cash loans</td>\n",
       "      <td>F</td>\n",
       "      <td>N</td>\n",
       "      <td>Y</td>\n",
       "      <td>0</td>\n",
       "      <td>135000.0</td>\n",
       "      <td>312682.5</td>\n",
       "      <td>29686.5</td>\n",
       "      <td>...</td>\n",
       "      <td>0</td>\n",
       "      <td>0</td>\n",
       "      <td>0</td>\n",
       "      <td>0</td>\n",
       "      <td>NaN</td>\n",
       "      <td>NaN</td>\n",
       "      <td>NaN</td>\n",
       "      <td>NaN</td>\n",
       "      <td>NaN</td>\n",
       "      <td>NaN</td>\n",
       "    </tr>\n",
       "    <tr>\n",
       "      <th>4</th>\n",
       "      <td>100007</td>\n",
       "      <td>0</td>\n",
       "      <td>Cash loans</td>\n",
       "      <td>M</td>\n",
       "      <td>N</td>\n",
       "      <td>Y</td>\n",
       "      <td>0</td>\n",
       "      <td>121500.0</td>\n",
       "      <td>513000.0</td>\n",
       "      <td>21865.5</td>\n",
       "      <td>...</td>\n",
       "      <td>0</td>\n",
       "      <td>0</td>\n",
       "      <td>0</td>\n",
       "      <td>0</td>\n",
       "      <td>0.0</td>\n",
       "      <td>0.0</td>\n",
       "      <td>0.0</td>\n",
       "      <td>0.0</td>\n",
       "      <td>0.0</td>\n",
       "      <td>0.0</td>\n",
       "    </tr>\n",
       "  </tbody>\n",
       "</table>\n",
       "<p>5 rows × 122 columns</p>\n",
       "</div>"
      ],
      "text/plain": [
       "   SK_ID_CURR  TARGET NAME_CONTRACT_TYPE CODE_GENDER FLAG_OWN_CAR  \\\n",
       "0      100002       1         Cash loans           M            N   \n",
       "1      100003       0         Cash loans           F            N   \n",
       "2      100004       0    Revolving loans           M            Y   \n",
       "3      100006       0         Cash loans           F            N   \n",
       "4      100007       0         Cash loans           M            N   \n",
       "\n",
       "  FLAG_OWN_REALTY  CNT_CHILDREN  AMT_INCOME_TOTAL  AMT_CREDIT  AMT_ANNUITY  \\\n",
       "0               Y             0          202500.0    406597.5      24700.5   \n",
       "1               N             0          270000.0   1293502.5      35698.5   \n",
       "2               Y             0           67500.0    135000.0       6750.0   \n",
       "3               Y             0          135000.0    312682.5      29686.5   \n",
       "4               Y             0          121500.0    513000.0      21865.5   \n",
       "\n",
       "   ...  FLAG_DOCUMENT_18 FLAG_DOCUMENT_19 FLAG_DOCUMENT_20 FLAG_DOCUMENT_21  \\\n",
       "0  ...                 0                0                0                0   \n",
       "1  ...                 0                0                0                0   \n",
       "2  ...                 0                0                0                0   \n",
       "3  ...                 0                0                0                0   \n",
       "4  ...                 0                0                0                0   \n",
       "\n",
       "  AMT_REQ_CREDIT_BUREAU_HOUR AMT_REQ_CREDIT_BUREAU_DAY  \\\n",
       "0                        0.0                       0.0   \n",
       "1                        0.0                       0.0   \n",
       "2                        0.0                       0.0   \n",
       "3                        NaN                       NaN   \n",
       "4                        0.0                       0.0   \n",
       "\n",
       "   AMT_REQ_CREDIT_BUREAU_WEEK  AMT_REQ_CREDIT_BUREAU_MON  \\\n",
       "0                         0.0                        0.0   \n",
       "1                         0.0                        0.0   \n",
       "2                         0.0                        0.0   \n",
       "3                         NaN                        NaN   \n",
       "4                         0.0                        0.0   \n",
       "\n",
       "   AMT_REQ_CREDIT_BUREAU_QRT  AMT_REQ_CREDIT_BUREAU_YEAR  \n",
       "0                        0.0                         1.0  \n",
       "1                        0.0                         0.0  \n",
       "2                        0.0                         0.0  \n",
       "3                        NaN                         NaN  \n",
       "4                        0.0                         0.0  \n",
       "\n",
       "[5 rows x 122 columns]"
      ]
     },
     "execution_count": 3,
     "metadata": {},
     "output_type": "execute_result"
    }
   ],
   "source": [
    "df = pd.read_csv(\"C:/Users/N/Downloads/home-credit-default-risk/application_train.csv\")\n",
    "df.head()"
   ]
  },
  {
   "cell_type": "code",
   "execution_count": null,
   "metadata": {
    "id": "fV1LLeabbA-z"
   },
   "outputs": [],
   "source": [
    "df.columns[20:50]"
   ]
  },
  {
   "cell_type": "markdown",
   "metadata": {
    "id": "U_MQ8sfsDYnj"
   },
   "source": [
    "### Initial plan for data exploration \n",
    "- check null and data type\n",
    "- Basic statistic of dataset\n"
   ]
  },
  {
   "cell_type": "code",
   "execution_count": null,
   "metadata": {
    "id": "P2hm7Lh94_Vq"
   },
   "outputs": [],
   "source": [
    "df.info(verbose=True,show_counts=True)"
   ]
  },
  {
   "cell_type": "code",
   "execution_count": null,
   "metadata": {
    "id": "0OlRxcITr-ky"
   },
   "outputs": [],
   "source": [
    "df['OCCUPATION_TYPE'].unique()"
   ]
  },
  {
   "cell_type": "code",
   "execution_count": null,
   "metadata": {
    "id": "TF4WZU2jFdZA"
   },
   "outputs": [],
   "source": [
    "sns.pairplot(test)"
   ]
  },
  {
   "cell_type": "code",
   "execution_count": null,
   "metadata": {
    "id": "9O-fDVVr5m3E"
   },
   "outputs": [],
   "source": [
    "columns = ['CNT_CHILDREN','AMT_INCOME_TOTAL','AMT_CREDIT','AMT_ANNUITY','AMT_GOODS_PRICE','NAME_TYPE_SUITE',\n",
    "       'NAME_INCOME_TYPE', 'NAME_EDUCATION_TYPE', 'NAME_FAMILY_STATUS',\n",
    "       'NAME_HOUSING_TYPE']\n",
    "df_1 = df[columns]\n",
    "df_1.describe().T"
   ]
  },
  {
   "cell_type": "markdown",
   "metadata": {
    "id": "JhTT2CRwDXEN"
   },
   "source": [
    "### Actions taken for data cleaning and feature engineering\n",
    "- remove column have missong value more than 50 percent\n",
    "- fill missing value\n",
    "- create the new column age and age of work\n",
    "- encode columns"
   ]
  },
  {
   "cell_type": "code",
   "execution_count": 4,
   "metadata": {
    "id": "VonwB77t52ZV"
   },
   "outputs": [
    {
     "data": {
      "text/plain": [
       "Text(0.5, 1.0, 'Total Missing Values')"
      ]
     },
     "execution_count": 4,
     "metadata": {},
     "output_type": "execute_result"
    },
    {
     "data": {
      "image/png": "[encoded data removed]",
      "text/plain": [
       "<Figure size 1440x720 with 1 Axes>"
      ]
     },
     "metadata": {
      "needs_background": "light"
     },
     "output_type": "display_data"
    }
   ],
   "source": [
    "total = df.isnull().sum().sort_values(ascending=False)\n",
    "total_select = total.head(60)\n",
    "total_select.plot(kind=\"bar\", figsize = (20,10), fontsize = 10)\n",
    "\n",
    "plt.xlabel(\"Columns\", fontsize = 20)\n",
    "plt.ylabel(\"Count\", fontsize = 20)\n",
    "plt.title(\"Total Missing Values\", fontsize = 20)"
   ]
  },
  {
   "cell_type": "code",
   "execution_count": 5,
   "metadata": {
    "id": "AuqVvoen_nuN"
   },
   "outputs": [],
   "source": [
    "# Function to calculate missing values by column# Funct \n",
    "def missing_values_table(df):\n",
    "        # Total missing values\n",
    "        mis_val = df.isnull().sum()\n",
    "        \n",
    "        # Percentage of missing values\n",
    "        mis_val_percent = 100 * df.isnull().sum() / len(df)\n",
    "        \n",
    "        # Make a table with the results\n",
    "        mis_val_table = pd.concat([mis_val, mis_val_percent], axis=1)\n",
    "        \n",
    "        # Rename the columns\n",
    "        mis_val_table_ren_columns = mis_val_table.rename(\n",
    "        columns = {0 : 'Missing Values', 1 : '% of Total Values'})\n",
    "        \n",
    "        # Sort the table by percentage of missing descending\n",
    "        mis_val_table_ren_columns = mis_val_table_ren_columns[\n",
    "            mis_val_table_ren_columns.iloc[:,1] != 0].sort_values(\n",
    "        '% of Total Values', ascending=False).round(1)\n",
    "        \n",
    "        # Print some summary information\n",
    "        print (\"Your selected dataframe has \" + str(df.shape[1]) + \" columns.\\n\"      \n",
    "            \"There are \" + str(mis_val_table_ren_columns.shape[0]) +\n",
    "              \" columns that have missing values.\")\n",
    "        \n",
    "        # Return the dataframe with missing information\n",
    "        return mis_val_table_ren_columns"
   ]
  },
  {
   "cell_type": "code",
   "execution_count": 6,
   "metadata": {
    "id": "Jo_s2G1eGsWt"
   },
   "outputs": [
    {
     "data": {
      "text/html": [
       "<div>\n",
       "<style scoped>\n",
       "    .dataframe tbody tr th:only-of-type {\n",
       "        vertical-align: middle;\n",
       "    }\n",
       "\n",
       "    .dataframe tbody tr th {\n",
       "        vertical-align: top;\n",
       "    }\n",
       "\n",
       "    .dataframe thead th {\n",
       "        text-align: right;\n",
       "    }\n",
       "</style>\n",
       "<table border=\"1\" class=\"dataframe\">\n",
       "  <thead>\n",
       "    <tr style=\"text-align: right;\">\n",
       "      <th></th>\n",
       "      <th>unique_values</th>\n",
       "      <th>counts</th>\n",
       "      <th>percentage</th>\n",
       "    </tr>\n",
       "  </thead>\n",
       "  <tbody>\n",
       "    <tr>\n",
       "      <th>0</th>\n",
       "      <td>0</td>\n",
       "      <td>282686</td>\n",
       "      <td>91.927118</td>\n",
       "    </tr>\n",
       "    <tr>\n",
       "      <th>1</th>\n",
       "      <td>1</td>\n",
       "      <td>24825</td>\n",
       "      <td>8.072882</td>\n",
       "    </tr>\n",
       "  </tbody>\n",
       "</table>\n",
       "</div>"
      ],
      "text/plain": [
       "   unique_values  counts  percentage\n",
       "0              0  282686   91.927118\n",
       "1              1   24825    8.072882"
      ]
     },
     "execution_count": 6,
     "metadata": {},
     "output_type": "execute_result"
    }
   ],
   "source": [
    "# imbalance data set\n",
    "percent = df[\"TARGET\"].value_counts().rename_axis('unique_values').reset_index(name='counts')\n",
    "percent['percentage'] = percent['counts'] / sum(percent['counts']) *100\n",
    "percent"
   ]
  },
  {
   "cell_type": "code",
   "execution_count": 7,
   "metadata": {
    "id": "GDJSroSbHqj2"
   },
   "outputs": [
    {
     "data": {
      "image/png": "[encoded data removed]",
      "text/plain": [
       "<Figure size 432x288 with 1 Axes>"
      ]
     },
     "metadata": {
      "needs_background": "light"
     },
     "output_type": "display_data"
    }
   ],
   "source": [
    "df['TARGET'].astype(int).plot.hist();"
   ]
  },
  {
   "cell_type": "code",
   "execution_count": 8,
   "metadata": {
    "id": "dZAuc_ACC1tl"
   },
   "outputs": [
    {
     "name": "stdout",
     "output_type": "stream",
     "text": [
      "Your selected dataframe has 122 columns.\n",
      "There are 67 columns that have missing values.\n"
     ]
    },
    {
     "data": {
      "text/html": [
       "<div>\n",
       "<style scoped>\n",
       "    .dataframe tbody tr th:only-of-type {\n",
       "        vertical-align: middle;\n",
       "    }\n",
       "\n",
       "    .dataframe tbody tr th {\n",
       "        vertical-align: top;\n",
       "    }\n",
       "\n",
       "    .dataframe thead th {\n",
       "        text-align: right;\n",
       "    }\n",
       "</style>\n",
       "<table border=\"1\" class=\"dataframe\">\n",
       "  <thead>\n",
       "    <tr style=\"text-align: right;\">\n",
       "      <th></th>\n",
       "      <th>Missing Values</th>\n",
       "      <th>% of Total Values</th>\n",
       "    </tr>\n",
       "  </thead>\n",
       "  <tbody>\n",
       "    <tr>\n",
       "      <th>COMMONAREA_MEDI</th>\n",
       "      <td>214865</td>\n",
       "      <td>69.9</td>\n",
       "    </tr>\n",
       "    <tr>\n",
       "      <th>COMMONAREA_AVG</th>\n",
       "      <td>214865</td>\n",
       "      <td>69.9</td>\n",
       "    </tr>\n",
       "    <tr>\n",
       "      <th>COMMONAREA_MODE</th>\n",
       "      <td>214865</td>\n",
       "      <td>69.9</td>\n",
       "    </tr>\n",
       "    <tr>\n",
       "      <th>NONLIVINGAPARTMENTS_MEDI</th>\n",
       "      <td>213514</td>\n",
       "      <td>69.4</td>\n",
       "    </tr>\n",
       "    <tr>\n",
       "      <th>NONLIVINGAPARTMENTS_MODE</th>\n",
       "      <td>213514</td>\n",
       "      <td>69.4</td>\n",
       "    </tr>\n",
       "    <tr>\n",
       "      <th>NONLIVINGAPARTMENTS_AVG</th>\n",
       "      <td>213514</td>\n",
       "      <td>69.4</td>\n",
       "    </tr>\n",
       "    <tr>\n",
       "      <th>FONDKAPREMONT_MODE</th>\n",
       "      <td>210295</td>\n",
       "      <td>68.4</td>\n",
       "    </tr>\n",
       "    <tr>\n",
       "      <th>LIVINGAPARTMENTS_MODE</th>\n",
       "      <td>210199</td>\n",
       "      <td>68.4</td>\n",
       "    </tr>\n",
       "    <tr>\n",
       "      <th>LIVINGAPARTMENTS_MEDI</th>\n",
       "      <td>210199</td>\n",
       "      <td>68.4</td>\n",
       "    </tr>\n",
       "    <tr>\n",
       "      <th>LIVINGAPARTMENTS_AVG</th>\n",
       "      <td>210199</td>\n",
       "      <td>68.4</td>\n",
       "    </tr>\n",
       "    <tr>\n",
       "      <th>FLOORSMIN_MODE</th>\n",
       "      <td>208642</td>\n",
       "      <td>67.8</td>\n",
       "    </tr>\n",
       "    <tr>\n",
       "      <th>FLOORSMIN_MEDI</th>\n",
       "      <td>208642</td>\n",
       "      <td>67.8</td>\n",
       "    </tr>\n",
       "    <tr>\n",
       "      <th>FLOORSMIN_AVG</th>\n",
       "      <td>208642</td>\n",
       "      <td>67.8</td>\n",
       "    </tr>\n",
       "    <tr>\n",
       "      <th>YEARS_BUILD_MODE</th>\n",
       "      <td>204488</td>\n",
       "      <td>66.5</td>\n",
       "    </tr>\n",
       "    <tr>\n",
       "      <th>YEARS_BUILD_MEDI</th>\n",
       "      <td>204488</td>\n",
       "      <td>66.5</td>\n",
       "    </tr>\n",
       "    <tr>\n",
       "      <th>YEARS_BUILD_AVG</th>\n",
       "      <td>204488</td>\n",
       "      <td>66.5</td>\n",
       "    </tr>\n",
       "    <tr>\n",
       "      <th>OWN_CAR_AGE</th>\n",
       "      <td>202929</td>\n",
       "      <td>66.0</td>\n",
       "    </tr>\n",
       "    <tr>\n",
       "      <th>LANDAREA_AVG</th>\n",
       "      <td>182590</td>\n",
       "      <td>59.4</td>\n",
       "    </tr>\n",
       "    <tr>\n",
       "      <th>LANDAREA_MEDI</th>\n",
       "      <td>182590</td>\n",
       "      <td>59.4</td>\n",
       "    </tr>\n",
       "    <tr>\n",
       "      <th>LANDAREA_MODE</th>\n",
       "      <td>182590</td>\n",
       "      <td>59.4</td>\n",
       "    </tr>\n",
       "    <tr>\n",
       "      <th>BASEMENTAREA_MEDI</th>\n",
       "      <td>179943</td>\n",
       "      <td>58.5</td>\n",
       "    </tr>\n",
       "    <tr>\n",
       "      <th>BASEMENTAREA_AVG</th>\n",
       "      <td>179943</td>\n",
       "      <td>58.5</td>\n",
       "    </tr>\n",
       "    <tr>\n",
       "      <th>BASEMENTAREA_MODE</th>\n",
       "      <td>179943</td>\n",
       "      <td>58.5</td>\n",
       "    </tr>\n",
       "    <tr>\n",
       "      <th>EXT_SOURCE_1</th>\n",
       "      <td>173378</td>\n",
       "      <td>56.4</td>\n",
       "    </tr>\n",
       "    <tr>\n",
       "      <th>NONLIVINGAREA_MEDI</th>\n",
       "      <td>169682</td>\n",
       "      <td>55.2</td>\n",
       "    </tr>\n",
       "    <tr>\n",
       "      <th>NONLIVINGAREA_MODE</th>\n",
       "      <td>169682</td>\n",
       "      <td>55.2</td>\n",
       "    </tr>\n",
       "    <tr>\n",
       "      <th>NONLIVINGAREA_AVG</th>\n",
       "      <td>169682</td>\n",
       "      <td>55.2</td>\n",
       "    </tr>\n",
       "    <tr>\n",
       "      <th>ELEVATORS_MEDI</th>\n",
       "      <td>163891</td>\n",
       "      <td>53.3</td>\n",
       "    </tr>\n",
       "    <tr>\n",
       "      <th>ELEVATORS_MODE</th>\n",
       "      <td>163891</td>\n",
       "      <td>53.3</td>\n",
       "    </tr>\n",
       "    <tr>\n",
       "      <th>ELEVATORS_AVG</th>\n",
       "      <td>163891</td>\n",
       "      <td>53.3</td>\n",
       "    </tr>\n",
       "    <tr>\n",
       "      <th>WALLSMATERIAL_MODE</th>\n",
       "      <td>156341</td>\n",
       "      <td>50.8</td>\n",
       "    </tr>\n",
       "    <tr>\n",
       "      <th>APARTMENTS_MODE</th>\n",
       "      <td>156061</td>\n",
       "      <td>50.7</td>\n",
       "    </tr>\n",
       "    <tr>\n",
       "      <th>APARTMENTS_MEDI</th>\n",
       "      <td>156061</td>\n",
       "      <td>50.7</td>\n",
       "    </tr>\n",
       "    <tr>\n",
       "      <th>APARTMENTS_AVG</th>\n",
       "      <td>156061</td>\n",
       "      <td>50.7</td>\n",
       "    </tr>\n",
       "    <tr>\n",
       "      <th>ENTRANCES_MODE</th>\n",
       "      <td>154828</td>\n",
       "      <td>50.3</td>\n",
       "    </tr>\n",
       "    <tr>\n",
       "      <th>ENTRANCES_AVG</th>\n",
       "      <td>154828</td>\n",
       "      <td>50.3</td>\n",
       "    </tr>\n",
       "    <tr>\n",
       "      <th>ENTRANCES_MEDI</th>\n",
       "      <td>154828</td>\n",
       "      <td>50.3</td>\n",
       "    </tr>\n",
       "    <tr>\n",
       "      <th>LIVINGAREA_MEDI</th>\n",
       "      <td>154350</td>\n",
       "      <td>50.2</td>\n",
       "    </tr>\n",
       "    <tr>\n",
       "      <th>LIVINGAREA_MODE</th>\n",
       "      <td>154350</td>\n",
       "      <td>50.2</td>\n",
       "    </tr>\n",
       "    <tr>\n",
       "      <th>LIVINGAREA_AVG</th>\n",
       "      <td>154350</td>\n",
       "      <td>50.2</td>\n",
       "    </tr>\n",
       "    <tr>\n",
       "      <th>HOUSETYPE_MODE</th>\n",
       "      <td>154297</td>\n",
       "      <td>50.2</td>\n",
       "    </tr>\n",
       "    <tr>\n",
       "      <th>FLOORSMAX_MEDI</th>\n",
       "      <td>153020</td>\n",
       "      <td>49.8</td>\n",
       "    </tr>\n",
       "    <tr>\n",
       "      <th>FLOORSMAX_AVG</th>\n",
       "      <td>153020</td>\n",
       "      <td>49.8</td>\n",
       "    </tr>\n",
       "    <tr>\n",
       "      <th>FLOORSMAX_MODE</th>\n",
       "      <td>153020</td>\n",
       "      <td>49.8</td>\n",
       "    </tr>\n",
       "    <tr>\n",
       "      <th>YEARS_BEGINEXPLUATATION_AVG</th>\n",
       "      <td>150007</td>\n",
       "      <td>48.8</td>\n",
       "    </tr>\n",
       "    <tr>\n",
       "      <th>YEARS_BEGINEXPLUATATION_MEDI</th>\n",
       "      <td>150007</td>\n",
       "      <td>48.8</td>\n",
       "    </tr>\n",
       "    <tr>\n",
       "      <th>YEARS_BEGINEXPLUATATION_MODE</th>\n",
       "      <td>150007</td>\n",
       "      <td>48.8</td>\n",
       "    </tr>\n",
       "    <tr>\n",
       "      <th>TOTALAREA_MODE</th>\n",
       "      <td>148431</td>\n",
       "      <td>48.3</td>\n",
       "    </tr>\n",
       "    <tr>\n",
       "      <th>EMERGENCYSTATE_MODE</th>\n",
       "      <td>145755</td>\n",
       "      <td>47.4</td>\n",
       "    </tr>\n",
       "    <tr>\n",
       "      <th>OCCUPATION_TYPE</th>\n",
       "      <td>96391</td>\n",
       "      <td>31.3</td>\n",
       "    </tr>\n",
       "  </tbody>\n",
       "</table>\n",
       "</div>"
      ],
      "text/plain": [
       "                              Missing Values  % of Total Values\n",
       "COMMONAREA_MEDI                       214865               69.9\n",
       "COMMONAREA_AVG                        214865               69.9\n",
       "COMMONAREA_MODE                       214865               69.9\n",
       "NONLIVINGAPARTMENTS_MEDI              213514               69.4\n",
       "NONLIVINGAPARTMENTS_MODE              213514               69.4\n",
       "NONLIVINGAPARTMENTS_AVG               213514               69.4\n",
       "FONDKAPREMONT_MODE                    210295               68.4\n",
       "LIVINGAPARTMENTS_MODE                 210199               68.4\n",
       "LIVINGAPARTMENTS_MEDI                 210199               68.4\n",
       "LIVINGAPARTMENTS_AVG                  210199               68.4\n",
       "FLOORSMIN_MODE                        208642               67.8\n",
       "FLOORSMIN_MEDI                        208642               67.8\n",
       "FLOORSMIN_AVG                         208642               67.8\n",
       "YEARS_BUILD_MODE                      204488               66.5\n",
       "YEARS_BUILD_MEDI                      204488               66.5\n",
       "YEARS_BUILD_AVG                       204488               66.5\n",
       "OWN_CAR_AGE                           202929               66.0\n",
       "LANDAREA_AVG                          182590               59.4\n",
       "LANDAREA_MEDI                         182590               59.4\n",
       "LANDAREA_MODE                         182590               59.4\n",
       "BASEMENTAREA_MEDI                     179943               58.5\n",
       "BASEMENTAREA_AVG                      179943               58.5\n",
       "BASEMENTAREA_MODE                     179943               58.5\n",
       "EXT_SOURCE_1                          173378               56.4\n",
       "NONLIVINGAREA_MEDI                    169682               55.2\n",
       "NONLIVINGAREA_MODE                    169682               55.2\n",
       "NONLIVINGAREA_AVG                     169682               55.2\n",
       "ELEVATORS_MEDI                        163891               53.3\n",
       "ELEVATORS_MODE                        163891               53.3\n",
       "ELEVATORS_AVG                         163891               53.3\n",
       "WALLSMATERIAL_MODE                    156341               50.8\n",
       "APARTMENTS_MODE                       156061               50.7\n",
       "APARTMENTS_MEDI                       156061               50.7\n",
       "APARTMENTS_AVG                        156061               50.7\n",
       "ENTRANCES_MODE                        154828               50.3\n",
       "ENTRANCES_AVG                         154828               50.3\n",
       "ENTRANCES_MEDI                        154828               50.3\n",
       "LIVINGAREA_MEDI                       154350               50.2\n",
       "LIVINGAREA_MODE                       154350               50.2\n",
       "LIVINGAREA_AVG                        154350               50.2\n",
       "HOUSETYPE_MODE                        154297               50.2\n",
       "FLOORSMAX_MEDI                        153020               49.8\n",
       "FLOORSMAX_AVG                         153020               49.8\n",
       "FLOORSMAX_MODE                        153020               49.8\n",
       "YEARS_BEGINEXPLUATATION_AVG           150007               48.8\n",
       "YEARS_BEGINEXPLUATATION_MEDI          150007               48.8\n",
       "YEARS_BEGINEXPLUATATION_MODE          150007               48.8\n",
       "TOTALAREA_MODE                        148431               48.3\n",
       "EMERGENCYSTATE_MODE                   145755               47.4\n",
       "OCCUPATION_TYPE                        96391               31.3"
      ]
     },
     "execution_count": 8,
     "metadata": {},
     "output_type": "execute_result"
    }
   ],
   "source": [
    "missing_value_check=missing_values_table(df)\n",
    "missing_value_check[missing_value_check['% of Total Values']>30]"
   ]
  },
  {
   "cell_type": "code",
   "execution_count": 20,
   "metadata": {
    "id": "8vIglFaNKijJ"
   },
   "outputs": [
    {
     "name": "stdout",
     "output_type": "stream",
     "text": [
      "Original Dataframe : \n",
      "(307511, 122)\n",
      "Modified Dataframe : \n",
      "(307511, 73)\n"
     ]
    }
   ],
   "source": [
    "#Drop column percentage missing value greater than 32\n",
    "perc = 32\n",
    "min_count =  int(((100-perc)/100)*df.shape[0] + 1)\n",
    "\n",
    "mod_df = df.dropna( axis=1, \n",
    "                thresh=min_count)\n",
    "print(\"Original Dataframe : \")\n",
    "print(df.shape)\n",
    "print(\"Modified Dataframe : \")\n",
    "print(mod_df.shape)"
   ]
  },
  {
   "cell_type": "code",
   "execution_count": 10,
   "metadata": {
    "id": "VBRDNtxvMhgJ"
   },
   "outputs": [
    {
     "data": {
      "text/plain": [
       "0"
      ]
     },
     "execution_count": 10,
     "metadata": {},
     "output_type": "execute_result"
    }
   ],
   "source": [
    "#Dataset no duplicate\n",
    "mod_df.duplicated().sum()"
   ]
  },
  {
   "cell_type": "code",
   "execution_count": 11,
   "metadata": {
    "id": "EaPEAJqs5cIR"
   },
   "outputs": [],
   "source": [
    "test = mod_df.iloc[:,:20]"
   ]
  },
  {
   "cell_type": "code",
   "execution_count": 12,
   "metadata": {
    "id": "gMBg46O962OO"
   },
   "outputs": [
    {
     "name": "stdout",
     "output_type": "stream",
     "text": [
      "Your selected dataframe has 73 columns.\n",
      "There are 18 columns that have missing values.\n"
     ]
    },
    {
     "data": {
      "text/html": [
       "<div>\n",
       "<style scoped>\n",
       "    .dataframe tbody tr th:only-of-type {\n",
       "        vertical-align: middle;\n",
       "    }\n",
       "\n",
       "    .dataframe tbody tr th {\n",
       "        vertical-align: top;\n",
       "    }\n",
       "\n",
       "    .dataframe thead th {\n",
       "        text-align: right;\n",
       "    }\n",
       "</style>\n",
       "<table border=\"1\" class=\"dataframe\">\n",
       "  <thead>\n",
       "    <tr style=\"text-align: right;\">\n",
       "      <th></th>\n",
       "      <th>Missing Values</th>\n",
       "      <th>% of Total Values</th>\n",
       "    </tr>\n",
       "  </thead>\n",
       "  <tbody>\n",
       "    <tr>\n",
       "      <th>OCCUPATION_TYPE</th>\n",
       "      <td>96391</td>\n",
       "      <td>31.3</td>\n",
       "    </tr>\n",
       "    <tr>\n",
       "      <th>EXT_SOURCE_3</th>\n",
       "      <td>60965</td>\n",
       "      <td>19.8</td>\n",
       "    </tr>\n",
       "    <tr>\n",
       "      <th>AMT_REQ_CREDIT_BUREAU_YEAR</th>\n",
       "      <td>41519</td>\n",
       "      <td>13.5</td>\n",
       "    </tr>\n",
       "    <tr>\n",
       "      <th>AMT_REQ_CREDIT_BUREAU_QRT</th>\n",
       "      <td>41519</td>\n",
       "      <td>13.5</td>\n",
       "    </tr>\n",
       "    <tr>\n",
       "      <th>AMT_REQ_CREDIT_BUREAU_MON</th>\n",
       "      <td>41519</td>\n",
       "      <td>13.5</td>\n",
       "    </tr>\n",
       "    <tr>\n",
       "      <th>AMT_REQ_CREDIT_BUREAU_WEEK</th>\n",
       "      <td>41519</td>\n",
       "      <td>13.5</td>\n",
       "    </tr>\n",
       "    <tr>\n",
       "      <th>AMT_REQ_CREDIT_BUREAU_DAY</th>\n",
       "      <td>41519</td>\n",
       "      <td>13.5</td>\n",
       "    </tr>\n",
       "    <tr>\n",
       "      <th>AMT_REQ_CREDIT_BUREAU_HOUR</th>\n",
       "      <td>41519</td>\n",
       "      <td>13.5</td>\n",
       "    </tr>\n",
       "    <tr>\n",
       "      <th>NAME_TYPE_SUITE</th>\n",
       "      <td>1292</td>\n",
       "      <td>0.4</td>\n",
       "    </tr>\n",
       "    <tr>\n",
       "      <th>DEF_60_CNT_SOCIAL_CIRCLE</th>\n",
       "      <td>1021</td>\n",
       "      <td>0.3</td>\n",
       "    </tr>\n",
       "    <tr>\n",
       "      <th>OBS_60_CNT_SOCIAL_CIRCLE</th>\n",
       "      <td>1021</td>\n",
       "      <td>0.3</td>\n",
       "    </tr>\n",
       "    <tr>\n",
       "      <th>DEF_30_CNT_SOCIAL_CIRCLE</th>\n",
       "      <td>1021</td>\n",
       "      <td>0.3</td>\n",
       "    </tr>\n",
       "    <tr>\n",
       "      <th>OBS_30_CNT_SOCIAL_CIRCLE</th>\n",
       "      <td>1021</td>\n",
       "      <td>0.3</td>\n",
       "    </tr>\n",
       "    <tr>\n",
       "      <th>EXT_SOURCE_2</th>\n",
       "      <td>660</td>\n",
       "      <td>0.2</td>\n",
       "    </tr>\n",
       "    <tr>\n",
       "      <th>AMT_GOODS_PRICE</th>\n",
       "      <td>278</td>\n",
       "      <td>0.1</td>\n",
       "    </tr>\n",
       "    <tr>\n",
       "      <th>AMT_ANNUITY</th>\n",
       "      <td>12</td>\n",
       "      <td>0.0</td>\n",
       "    </tr>\n",
       "    <tr>\n",
       "      <th>CNT_FAM_MEMBERS</th>\n",
       "      <td>2</td>\n",
       "      <td>0.0</td>\n",
       "    </tr>\n",
       "    <tr>\n",
       "      <th>DAYS_LAST_PHONE_CHANGE</th>\n",
       "      <td>1</td>\n",
       "      <td>0.0</td>\n",
       "    </tr>\n",
       "  </tbody>\n",
       "</table>\n",
       "</div>"
      ],
      "text/plain": [
       "                            Missing Values  % of Total Values\n",
       "OCCUPATION_TYPE                      96391               31.3\n",
       "EXT_SOURCE_3                         60965               19.8\n",
       "AMT_REQ_CREDIT_BUREAU_YEAR           41519               13.5\n",
       "AMT_REQ_CREDIT_BUREAU_QRT            41519               13.5\n",
       "AMT_REQ_CREDIT_BUREAU_MON            41519               13.5\n",
       "AMT_REQ_CREDIT_BUREAU_WEEK           41519               13.5\n",
       "AMT_REQ_CREDIT_BUREAU_DAY            41519               13.5\n",
       "AMT_REQ_CREDIT_BUREAU_HOUR           41519               13.5\n",
       "NAME_TYPE_SUITE                       1292                0.4\n",
       "DEF_60_CNT_SOCIAL_CIRCLE              1021                0.3\n",
       "OBS_60_CNT_SOCIAL_CIRCLE              1021                0.3\n",
       "DEF_30_CNT_SOCIAL_CIRCLE              1021                0.3\n",
       "OBS_30_CNT_SOCIAL_CIRCLE              1021                0.3\n",
       "EXT_SOURCE_2                           660                0.2\n",
       "AMT_GOODS_PRICE                        278                0.1\n",
       "AMT_ANNUITY                             12                0.0\n",
       "CNT_FAM_MEMBERS                          2                0.0\n",
       "DAYS_LAST_PHONE_CHANGE                   1                0.0"
      ]
     },
     "execution_count": 12,
     "metadata": {},
     "output_type": "execute_result"
    }
   ],
   "source": [
    "missing_value_check=missing_values_table(mod_df)\n",
    "missing_value_check"
   ]
  },
  {
   "cell_type": "code",
   "execution_count": 21,
   "metadata": {
    "id": "QSWqPWgDEY4M"
   },
   "outputs": [
    {
     "name": "stderr",
     "output_type": "stream",
     "text": [
      "C:\\Users\\N\\anaconda3\\lib\\site-packages\\pandas\\core\\indexing.py:1765: SettingWithCopyWarning: \n",
      "A value is trying to be set on a copy of a slice from a DataFrame.\n",
      "Try using .loc[row_indexer,col_indexer] = value instead\n",
      "\n",
      "See the caveats in the documentation: https://pandas.pydata.org/pandas-docs/stable/user_guide/indexing.html#returning-a-view-versus-a-copy\n",
      "  isetter(loc, value)\n",
      "C:\\Users\\N\\anaconda3\\lib\\site-packages\\pandas\\core\\series.py:4517: SettingWithCopyWarning: \n",
      "A value is trying to be set on a copy of a slice from a DataFrame\n",
      "\n",
      "See the caveats in the documentation: https://pandas.pydata.org/pandas-docs/stable/user_guide/indexing.html#returning-a-view-versus-a-copy\n",
      "  return super().fillna(\n"
     ]
    }
   ],
   "source": [
    "# fill outlier with mean of income labor\n",
    "mean_labor_income = mod_df[(mod_df['OCCUPATION_TYPE']=='Laborers') \n",
    "& (mod_df['AMT_INCOME_TOTAL']<1170000000)]['AMT_INCOME_TOTAL'].mean()\n",
    "mod_df.loc[mod_df['AMT_INCOME_TOTAL']>=117000000.0,'AMT_INCOME_TOTAL'] = np.nan\n",
    "mod_df['AMT_INCOME_TOTAL'].fillna(mean_labor_income,inplace=True)\n"
   ]
  },
  {
   "cell_type": "code",
   "execution_count": 22,
   "metadata": {
    "id": "Vd1VyLaHLjvL"
   },
   "outputs": [
    {
     "name": "stderr",
     "output_type": "stream",
     "text": [
      "<ipython-input-22-b92cc46eb85b>:1: SettingWithCopyWarning: \n",
      "A value is trying to be set on a copy of a slice from a DataFrame.\n",
      "Try using .loc[row_indexer,col_indexer] = value instead\n",
      "\n",
      "See the caveats in the documentation: https://pandas.pydata.org/pandas-docs/stable/user_guide/indexing.html#returning-a-view-versus-a-copy\n",
      "  mod_df['AGE']= round(abs(mod_df['DAYS_BIRTH'] / 365))\n",
      "<ipython-input-22-b92cc46eb85b>:2: SettingWithCopyWarning: \n",
      "A value is trying to be set on a copy of a slice from a DataFrame.\n",
      "Try using .loc[row_indexer,col_indexer] = value instead\n",
      "\n",
      "See the caveats in the documentation: https://pandas.pydata.org/pandas-docs/stable/user_guide/indexing.html#returning-a-view-versus-a-copy\n",
      "  mod_df['YEAR_EMPLOYED']= round(abs(mod_df['DAYS_EMPLOYED'] / 365))\n",
      "<ipython-input-22-b92cc46eb85b>:3: SettingWithCopyWarning: \n",
      "A value is trying to be set on a copy of a slice from a DataFrame.\n",
      "Try using .loc[row_indexer,col_indexer] = value instead\n",
      "\n",
      "See the caveats in the documentation: https://pandas.pydata.org/pandas-docs/stable/user_guide/indexing.html#returning-a-view-versus-a-copy\n",
      "  mod_df['AGE_RANGE'] = pd.cut(x=mod_df['AGE'], bins=[20, 25, 30,40,50,60,70])\n"
     ]
    }
   ],
   "source": [
    "mod_df['AGE']= round(abs(mod_df['DAYS_BIRTH'] / 365))\n",
    "mod_df['YEAR_EMPLOYED']= round(abs(mod_df['DAYS_EMPLOYED'] / 365))\n",
    "mod_df['AGE_RANGE'] = pd.cut(x=mod_df['AGE'], bins=[20, 25, 30,40,50,60,70])"
   ]
  },
  {
   "cell_type": "code",
   "execution_count": 23,
   "metadata": {
    "id": "M63LQx4OY-EC"
   },
   "outputs": [
    {
     "name": "stderr",
     "output_type": "stream",
     "text": [
      "<ipython-input-23-d126886d8be5>:1: SettingWithCopyWarning: \n",
      "A value is trying to be set on a copy of a slice from a DataFrame.\n",
      "Try using .loc[row_indexer,col_indexer] = value instead\n",
      "\n",
      "See the caveats in the documentation: https://pandas.pydata.org/pandas-docs/stable/user_guide/indexing.html#returning-a-view-versus-a-copy\n",
      "  mod_df['DAYS_EMPLOYED_ERROR'] = mod_df[\"DAYS_EMPLOYED\"] == 365243\n",
      "<ipython-input-23-d126886d8be5>:2: SettingWithCopyWarning: \n",
      "A value is trying to be set on a copy of a slice from a DataFrame.\n",
      "Try using .loc[row_indexer,col_indexer] = value instead\n",
      "\n",
      "See the caveats in the documentation: https://pandas.pydata.org/pandas-docs/stable/user_guide/indexing.html#returning-a-view-versus-a-copy\n",
      "  mod_df[\"DAYS_EMPLOYED_ERROR\"] = mod_df[\"DAYS_EMPLOYED_ERROR\"].astype(int)\n",
      "C:\\Users\\N\\anaconda3\\lib\\site-packages\\pandas\\core\\series.py:4563: SettingWithCopyWarning: \n",
      "A value is trying to be set on a copy of a slice from a DataFrame\n",
      "\n",
      "See the caveats in the documentation: https://pandas.pydata.org/pandas-docs/stable/user_guide/indexing.html#returning-a-view-versus-a-copy\n",
      "  return super().replace(\n"
     ]
    }
   ],
   "source": [
    "mod_df['DAYS_EMPLOYED_ERROR'] = mod_df[\"DAYS_EMPLOYED\"] == 365243\n",
    "mod_df[\"DAYS_EMPLOYED_ERROR\"] = mod_df[\"DAYS_EMPLOYED_ERROR\"].astype(int)\n",
    "mod_df['DAYS_EMPLOYED'].replace({365243: 0}, inplace = True)"
   ]
  },
  {
   "cell_type": "code",
   "execution_count": 24,
   "metadata": {
    "id": "Mt-l5nK8S9HY"
   },
   "outputs": [],
   "source": [
    "mod_df.loc[mod_df['OCCUPATION_TYPE'].isnull(),'OCCUPATION_TYPE'] = 'not identified '"
   ]
  },
  {
   "cell_type": "code",
   "execution_count": 25,
   "metadata": {
    "id": "7Umw3AoAVfcX"
   },
   "outputs": [
    {
     "name": "stderr",
     "output_type": "stream",
     "text": [
      "C:\\Users\\N\\anaconda3\\lib\\site-packages\\pandas\\core\\indexing.py:1765: SettingWithCopyWarning: \n",
      "A value is trying to be set on a copy of a slice from a DataFrame.\n",
      "Try using .loc[row_indexer,col_indexer] = value instead\n",
      "\n",
      "See the caveats in the documentation: https://pandas.pydata.org/pandas-docs/stable/user_guide/indexing.html#returning-a-view-versus-a-copy\n",
      "  isetter(loc, value)\n"
     ]
    }
   ],
   "source": [
    "mod_df.loc[mod_df['AMT_REQ_CREDIT_BUREAU_YEAR'].isnull(),'AMT_REQ_CREDIT_BUREAU_YEAR'] = mod_df['AMT_REQ_CREDIT_BUREAU_YEAR'].median()\n",
    "mod_df.loc[mod_df['AMT_REQ_CREDIT_BUREAU_QRT'].isnull(),'AMT_REQ_CREDIT_BUREAU_QRT'] = mod_df['AMT_REQ_CREDIT_BUREAU_YEAR'].median()\n",
    "mod_df.loc[mod_df['AMT_REQ_CREDIT_BUREAU_MON'].isnull(),'AMT_REQ_CREDIT_BUREAU_MON'] = mod_df['AMT_REQ_CREDIT_BUREAU_YEAR'].median()\n",
    "mod_df.loc[mod_df['AMT_REQ_CREDIT_BUREAU_WEEK'].isnull(),'AMT_REQ_CREDIT_BUREAU_WEEK'] = mod_df['AMT_REQ_CREDIT_BUREAU_YEAR'].median()\n",
    "mod_df.loc[mod_df['AMT_REQ_CREDIT_BUREAU_DAY'].isnull(),'AMT_REQ_CREDIT_BUREAU_DAY'] = mod_df['AMT_REQ_CREDIT_BUREAU_YEAR'].median()\n",
    "mod_df.loc[mod_df['AMT_REQ_CREDIT_BUREAU_HOUR'].isnull(),'AMT_REQ_CREDIT_BUREAU_HOUR'] = mod_df['AMT_REQ_CREDIT_BUREAU_YEAR'].median()\n"
   ]
  },
  {
   "cell_type": "code",
   "execution_count": 26,
   "metadata": {
    "id": "qBuJzhUBkRkq"
   },
   "outputs": [],
   "source": [
    "mod_df.loc[mod_df['DEF_60_CNT_SOCIAL_CIRCLE'].isnull(),'DEF_60_CNT_SOCIAL_CIRCLE'] = mod_df['DEF_60_CNT_SOCIAL_CIRCLE'].median()\n",
    "mod_df.loc[mod_df['DEF_30_CNT_SOCIAL_CIRCLE'].isnull(),'DEF_30_CNT_SOCIAL_CIRCLE'] = mod_df['DEF_30_CNT_SOCIAL_CIRCLE'].median()\n",
    "mod_df.loc[mod_df['OBS_60_CNT_SOCIAL_CIRCLE'].isnull(),'OBS_60_CNT_SOCIAL_CIRCLE'] = mod_df['OBS_60_CNT_SOCIAL_CIRCLE'].median()\n",
    "mod_df.loc[mod_df['OBS_30_CNT_SOCIAL_CIRCLE'].isnull(),'OBS_30_CNT_SOCIAL_CIRCLE'] = mod_df['OBS_30_CNT_SOCIAL_CIRCLE'].median()\n",
    "\n"
   ]
  },
  {
   "cell_type": "code",
   "execution_count": 27,
   "metadata": {
    "id": "ByfIVYtmnaEN"
   },
   "outputs": [
    {
     "data": {
      "text/plain": [
       "array(['Unaccompanied', 'Family', 'Spouse, partner', 'Children',\n",
       "       'Other_A', nan, 'Other_B', 'Group of people'], dtype=object)"
      ]
     },
     "execution_count": 27,
     "metadata": {},
     "output_type": "execute_result"
    }
   ],
   "source": [
    "mod_df['NAME_TYPE_SUITE'].unique()"
   ]
  },
  {
   "cell_type": "code",
   "execution_count": 28,
   "metadata": {
    "id": "Xzh2VeNHl26b"
   },
   "outputs": [],
   "source": [
    "mod_df.loc[mod_df['NAME_FAMILY_STATUS'].isnull(),'NAME_FAMILY_STATUS'] = 'Single / not married'\n",
    "mod_df.loc[mod_df['CNT_FAM_MEMBERS'].isnull(),'CNT_FAM_MEMBERS'] = 0\n",
    "mod_df.loc[mod_df['NAME_TYPE_SUITE'].isnull(),'NAME_TYPE_SUITE'] = 'not identified'"
   ]
  },
  {
   "cell_type": "code",
   "execution_count": 29,
   "metadata": {
    "id": "t7ybxo-crslK"
   },
   "outputs": [
    {
     "name": "stderr",
     "output_type": "stream",
     "text": [
      "C:\\Users\\N\\anaconda3\\lib\\site-packages\\pandas\\core\\series.py:4517: SettingWithCopyWarning: \n",
      "A value is trying to be set on a copy of a slice from a DataFrame\n",
      "\n",
      "See the caveats in the documentation: https://pandas.pydata.org/pandas-docs/stable/user_guide/indexing.html#returning-a-view-versus-a-copy\n",
      "  return super().fillna(\n"
     ]
    }
   ],
   "source": [
    "mod_df['AMT_GOODS_PRICE'].fillna(df['AMT_CREDIT'], inplace=True)"
   ]
  },
  {
   "cell_type": "code",
   "execution_count": 30,
   "metadata": {
    "id": "Yz0pfJIauBtk"
   },
   "outputs": [
    {
     "data": {
      "text/html": [
       "<div>\n",
       "<style scoped>\n",
       "    .dataframe tbody tr th:only-of-type {\n",
       "        vertical-align: middle;\n",
       "    }\n",
       "\n",
       "    .dataframe tbody tr th {\n",
       "        vertical-align: top;\n",
       "    }\n",
       "\n",
       "    .dataframe thead th {\n",
       "        text-align: right;\n",
       "    }\n",
       "</style>\n",
       "<table border=\"1\" class=\"dataframe\">\n",
       "  <thead>\n",
       "    <tr style=\"text-align: right;\">\n",
       "      <th></th>\n",
       "      <th>AMT_INCOME_TOTAL</th>\n",
       "      <th>AMT_CREDIT</th>\n",
       "      <th>AMT_GOODS_PRICE</th>\n",
       "      <th>AMT_ANNUITY</th>\n",
       "    </tr>\n",
       "  </thead>\n",
       "  <tbody>\n",
       "    <tr>\n",
       "      <th>22</th>\n",
       "      <td>450000.0</td>\n",
       "      <td>497520.0</td>\n",
       "      <td>450000.0</td>\n",
       "      <td>32521.5</td>\n",
       "    </tr>\n",
       "    <tr>\n",
       "      <th>35</th>\n",
       "      <td>112500.0</td>\n",
       "      <td>450000.0</td>\n",
       "      <td>450000.0</td>\n",
       "      <td>44509.5</td>\n",
       "    </tr>\n",
       "    <tr>\n",
       "      <th>68</th>\n",
       "      <td>157500.0</td>\n",
       "      <td>450000.0</td>\n",
       "      <td>450000.0</td>\n",
       "      <td>22500.0</td>\n",
       "    </tr>\n",
       "    <tr>\n",
       "      <th>69</th>\n",
       "      <td>180000.0</td>\n",
       "      <td>450000.0</td>\n",
       "      <td>450000.0</td>\n",
       "      <td>21109.5</td>\n",
       "    </tr>\n",
       "    <tr>\n",
       "      <th>70</th>\n",
       "      <td>180000.0</td>\n",
       "      <td>450000.0</td>\n",
       "      <td>450000.0</td>\n",
       "      <td>21109.5</td>\n",
       "    </tr>\n",
       "    <tr>\n",
       "      <th>...</th>\n",
       "      <td>...</td>\n",
       "      <td>...</td>\n",
       "      <td>...</td>\n",
       "      <td>...</td>\n",
       "    </tr>\n",
       "    <tr>\n",
       "      <th>307471</th>\n",
       "      <td>112500.0</td>\n",
       "      <td>592560.0</td>\n",
       "      <td>450000.0</td>\n",
       "      <td>32274.0</td>\n",
       "    </tr>\n",
       "    <tr>\n",
       "      <th>307479</th>\n",
       "      <td>112500.0</td>\n",
       "      <td>521280.0</td>\n",
       "      <td>450000.0</td>\n",
       "      <td>31630.5</td>\n",
       "    </tr>\n",
       "    <tr>\n",
       "      <th>307484</th>\n",
       "      <td>540000.0</td>\n",
       "      <td>545040.0</td>\n",
       "      <td>450000.0</td>\n",
       "      <td>35617.5</td>\n",
       "    </tr>\n",
       "    <tr>\n",
       "      <th>307489</th>\n",
       "      <td>225000.0</td>\n",
       "      <td>521280.0</td>\n",
       "      <td>450000.0</td>\n",
       "      <td>23089.5</td>\n",
       "    </tr>\n",
       "    <tr>\n",
       "      <th>307494</th>\n",
       "      <td>270000.0</td>\n",
       "      <td>479700.0</td>\n",
       "      <td>450000.0</td>\n",
       "      <td>46858.5</td>\n",
       "    </tr>\n",
       "  </tbody>\n",
       "</table>\n",
       "<p>26029 rows × 4 columns</p>\n",
       "</div>"
      ],
      "text/plain": [
       "        AMT_INCOME_TOTAL  AMT_CREDIT  AMT_GOODS_PRICE  AMT_ANNUITY\n",
       "22              450000.0    497520.0         450000.0      32521.5\n",
       "35              112500.0    450000.0         450000.0      44509.5\n",
       "68              157500.0    450000.0         450000.0      22500.0\n",
       "69              180000.0    450000.0         450000.0      21109.5\n",
       "70              180000.0    450000.0         450000.0      21109.5\n",
       "...                  ...         ...              ...          ...\n",
       "307471          112500.0    592560.0         450000.0      32274.0\n",
       "307479          112500.0    521280.0         450000.0      31630.5\n",
       "307484          540000.0    545040.0         450000.0      35617.5\n",
       "307489          225000.0    521280.0         450000.0      23089.5\n",
       "307494          270000.0    479700.0         450000.0      46858.5\n",
       "\n",
       "[26029 rows x 4 columns]"
      ]
     },
     "execution_count": 30,
     "metadata": {},
     "output_type": "execute_result"
    }
   ],
   "source": [
    "mod_df[mod_df['AMT_GOODS_PRICE']==450000.0][['AMT_INCOME_TOTAL','AMT_CREDIT','AMT_GOODS_PRICE','AMT_ANNUITY']]"
   ]
  },
  {
   "cell_type": "code",
   "execution_count": 31,
   "metadata": {
    "id": "jRTHDOAovhH4"
   },
   "outputs": [
    {
     "name": "stderr",
     "output_type": "stream",
     "text": [
      "<ipython-input-31-d72df3b37e36>:1: SettingWithCopyWarning: \n",
      "A value is trying to be set on a copy of a slice from a DataFrame.\n",
      "Try using .loc[row_indexer,col_indexer] = value instead\n",
      "\n",
      "See the caveats in the documentation: https://pandas.pydata.org/pandas-docs/stable/user_guide/indexing.html#returning-a-view-versus-a-copy\n",
      "  mod_df['YEAR_CONTRACT']=mod_df['AMT_GOODS_PRICE']/mod_df['AMT_ANNUITY']\n",
      "C:\\Users\\N\\anaconda3\\lib\\site-packages\\pandas\\core\\series.py:4517: SettingWithCopyWarning: \n",
      "A value is trying to be set on a copy of a slice from a DataFrame\n",
      "\n",
      "See the caveats in the documentation: https://pandas.pydata.org/pandas-docs/stable/user_guide/indexing.html#returning-a-view-versus-a-copy\n",
      "  return super().fillna(\n"
     ]
    }
   ],
   "source": [
    "mod_df['YEAR_CONTRACT']=mod_df['AMT_GOODS_PRICE']/mod_df['AMT_ANNUITY']\n",
    "mod_df['YEAR_CONTRACT'].fillna(20, inplace=True)"
   ]
  },
  {
   "cell_type": "code",
   "execution_count": 32,
   "metadata": {
    "id": "BnBRRd4JrMnn"
   },
   "outputs": [
    {
     "name": "stderr",
     "output_type": "stream",
     "text": [
      "C:\\Users\\N\\anaconda3\\lib\\site-packages\\pandas\\core\\indexing.py:1745: SettingWithCopyWarning: \n",
      "A value is trying to be set on a copy of a slice from a DataFrame.\n",
      "Try using .loc[row_indexer,col_indexer] = value instead\n",
      "\n",
      "See the caveats in the documentation: https://pandas.pydata.org/pandas-docs/stable/user_guide/indexing.html#returning-a-view-versus-a-copy\n",
      "  isetter(ilocs[0], value)\n"
     ]
    }
   ],
   "source": [
    "mod_df.loc[mod_df['AMT_ANNUITY'].isnull(),'AMT_ANNUITY'] = mod_df['AMT_GOODS_PRICE']/20"
   ]
  },
  {
   "cell_type": "code",
   "execution_count": 33,
   "metadata": {
    "id": "YRhj_5N6eMEd"
   },
   "outputs": [
    {
     "name": "stderr",
     "output_type": "stream",
     "text": [
      "<ipython-input-33-4e9d198aad82>:1: SettingWithCopyWarning: \n",
      "A value is trying to be set on a copy of a slice from a DataFrame.\n",
      "Try using .loc[row_indexer,col_indexer] = value instead\n",
      "\n",
      "See the caveats in the documentation: https://pandas.pydata.org/pandas-docs/stable/user_guide/indexing.html#returning-a-view-versus-a-copy\n",
      "  mod_df['EXT_SOURCE_1'] = df['EXT_SOURCE_1']\n"
     ]
    }
   ],
   "source": [
    "mod_df['EXT_SOURCE_1'] = df['EXT_SOURCE_1']"
   ]
  },
  {
   "cell_type": "code",
   "execution_count": 34,
   "metadata": {
    "id": "C0pgAJk7wqSI"
   },
   "outputs": [],
   "source": [
    "mod_df['DAYS_LAST_PHONE_CHANGE'].fillna(mod_df['DAYS_LAST_PHONE_CHANGE'].median(), inplace=True)"
   ]
  },
  {
   "cell_type": "code",
   "execution_count": 35,
   "metadata": {
    "id": "NgLMPWU0W0jg"
   },
   "outputs": [
    {
     "name": "stdout",
     "output_type": "stream",
     "text": [
      "Your selected dataframe has 79 columns.\n",
      "There are 5 columns that have missing values.\n"
     ]
    },
    {
     "data": {
      "text/html": [
       "<div>\n",
       "<style scoped>\n",
       "    .dataframe tbody tr th:only-of-type {\n",
       "        vertical-align: middle;\n",
       "    }\n",
       "\n",
       "    .dataframe tbody tr th {\n",
       "        vertical-align: top;\n",
       "    }\n",
       "\n",
       "    .dataframe thead th {\n",
       "        text-align: right;\n",
       "    }\n",
       "</style>\n",
       "<table border=\"1\" class=\"dataframe\">\n",
       "  <thead>\n",
       "    <tr style=\"text-align: right;\">\n",
       "      <th></th>\n",
       "      <th>Missing Values</th>\n",
       "      <th>% of Total Values</th>\n",
       "    </tr>\n",
       "  </thead>\n",
       "  <tbody>\n",
       "    <tr>\n",
       "      <th>EXT_SOURCE_1</th>\n",
       "      <td>173378</td>\n",
       "      <td>56.4</td>\n",
       "    </tr>\n",
       "    <tr>\n",
       "      <th>OCCUPATION_TYPE</th>\n",
       "      <td>96391</td>\n",
       "      <td>31.3</td>\n",
       "    </tr>\n",
       "    <tr>\n",
       "      <th>EXT_SOURCE_3</th>\n",
       "      <td>60965</td>\n",
       "      <td>19.8</td>\n",
       "    </tr>\n",
       "    <tr>\n",
       "      <th>NAME_TYPE_SUITE</th>\n",
       "      <td>1292</td>\n",
       "      <td>0.4</td>\n",
       "    </tr>\n",
       "    <tr>\n",
       "      <th>EXT_SOURCE_2</th>\n",
       "      <td>660</td>\n",
       "      <td>0.2</td>\n",
       "    </tr>\n",
       "  </tbody>\n",
       "</table>\n",
       "</div>"
      ],
      "text/plain": [
       "                 Missing Values  % of Total Values\n",
       "EXT_SOURCE_1             173378               56.4\n",
       "OCCUPATION_TYPE           96391               31.3\n",
       "EXT_SOURCE_3              60965               19.8\n",
       "NAME_TYPE_SUITE            1292                0.4\n",
       "EXT_SOURCE_2                660                0.2"
      ]
     },
     "execution_count": 35,
     "metadata": {},
     "output_type": "execute_result"
    }
   ],
   "source": [
    "missing_value_check=missing_values_table(mod_df)\n",
    "missing_value_check"
   ]
  },
  {
   "cell_type": "code",
   "execution_count": 49,
   "metadata": {
    "id": "pdxsWjU-FsjA"
   },
   "outputs": [
    {
     "data": {
      "text/plain": [
       "SK_ID_CURR             307511\n",
       "NAME_CONTRACT_TYPE          2\n",
       "CODE_GENDER                 3\n",
       "FLAG_OWN_CAR                2\n",
       "FLAG_OWN_REALTY             2\n",
       "                        ...  \n",
       "YEAR_EMPLOYED              51\n",
       "AGE_RANGE                   6\n",
       "DAYS_EMPLOYED_ERROR         2\n",
       "YEAR_CONTRACT           36432\n",
       "EXT_SOURCE_1           114584\n",
       "Length: 78, dtype: int64"
      ]
     },
     "execution_count": 49,
     "metadata": {},
     "output_type": "execute_result"
    }
   ],
   "source": [
    "df1 = mod_df.copy()\n",
    "df1= df1.drop('TARGET', axis='columns')\n",
    "df1.nunique()"
   ]
  },
  {
   "cell_type": "code",
   "execution_count": 50,
   "metadata": {
    "id": "3PPfZ08-HBeu"
   },
   "outputs": [
    {
     "name": "stdout",
     "output_type": "stream",
     "text": [
      "Your selected dataframe has 78 columns.\n",
      "There are 5 columns that have missing values.\n"
     ]
    },
    {
     "data": {
      "text/html": [
       "<div>\n",
       "<style scoped>\n",
       "    .dataframe tbody tr th:only-of-type {\n",
       "        vertical-align: middle;\n",
       "    }\n",
       "\n",
       "    .dataframe tbody tr th {\n",
       "        vertical-align: top;\n",
       "    }\n",
       "\n",
       "    .dataframe thead th {\n",
       "        text-align: right;\n",
       "    }\n",
       "</style>\n",
       "<table border=\"1\" class=\"dataframe\">\n",
       "  <thead>\n",
       "    <tr style=\"text-align: right;\">\n",
       "      <th></th>\n",
       "      <th>Missing Values</th>\n",
       "      <th>% of Total Values</th>\n",
       "    </tr>\n",
       "  </thead>\n",
       "  <tbody>\n",
       "    <tr>\n",
       "      <th>EXT_SOURCE_1</th>\n",
       "      <td>173378</td>\n",
       "      <td>56.4</td>\n",
       "    </tr>\n",
       "    <tr>\n",
       "      <th>OCCUPATION_TYPE</th>\n",
       "      <td>96391</td>\n",
       "      <td>31.3</td>\n",
       "    </tr>\n",
       "    <tr>\n",
       "      <th>EXT_SOURCE_3</th>\n",
       "      <td>60965</td>\n",
       "      <td>19.8</td>\n",
       "    </tr>\n",
       "    <tr>\n",
       "      <th>NAME_TYPE_SUITE</th>\n",
       "      <td>1292</td>\n",
       "      <td>0.4</td>\n",
       "    </tr>\n",
       "    <tr>\n",
       "      <th>EXT_SOURCE_2</th>\n",
       "      <td>660</td>\n",
       "      <td>0.2</td>\n",
       "    </tr>\n",
       "  </tbody>\n",
       "</table>\n",
       "</div>"
      ],
      "text/plain": [
       "                 Missing Values  % of Total Values\n",
       "EXT_SOURCE_1             173378               56.4\n",
       "OCCUPATION_TYPE           96391               31.3\n",
       "EXT_SOURCE_3              60965               19.8\n",
       "NAME_TYPE_SUITE            1292                0.4\n",
       "EXT_SOURCE_2                660                0.2"
      ]
     },
     "execution_count": 50,
     "metadata": {},
     "output_type": "execute_result"
    }
   ],
   "source": [
    "missing_value_check=missing_values_table(df1)\n",
    "missing_value_check"
   ]
  },
  {
   "cell_type": "code",
   "execution_count": 51,
   "metadata": {
    "id": "IlowiyB5E_Rv"
   },
   "outputs": [
    {
     "data": {
      "text/html": [
       "<div>\n",
       "<style scoped>\n",
       "    .dataframe tbody tr th:only-of-type {\n",
       "        vertical-align: middle;\n",
       "    }\n",
       "\n",
       "    .dataframe tbody tr th {\n",
       "        vertical-align: top;\n",
       "    }\n",
       "\n",
       "    .dataframe thead th {\n",
       "        text-align: right;\n",
       "    }\n",
       "</style>\n",
       "<table border=\"1\" class=\"dataframe\">\n",
       "  <thead>\n",
       "    <tr style=\"text-align: right;\">\n",
       "      <th></th>\n",
       "      <th>SK_ID_CURR</th>\n",
       "      <th>NAME_CONTRACT_TYPE</th>\n",
       "      <th>CODE_GENDER</th>\n",
       "      <th>FLAG_OWN_CAR</th>\n",
       "      <th>FLAG_OWN_REALTY</th>\n",
       "      <th>CNT_CHILDREN</th>\n",
       "      <th>AMT_INCOME_TOTAL</th>\n",
       "      <th>AMT_CREDIT</th>\n",
       "      <th>AMT_ANNUITY</th>\n",
       "      <th>AMT_GOODS_PRICE</th>\n",
       "      <th>...</th>\n",
       "      <th>YEAR_EMPLOYED</th>\n",
       "      <th>AGE_RANGE</th>\n",
       "      <th>DAYS_EMPLOYED_ERROR</th>\n",
       "      <th>YEAR_CONTRACT</th>\n",
       "      <th>EXT_SOURCE_1</th>\n",
       "      <th>NAME_TYPE_SUITE_m</th>\n",
       "      <th>OCCUPATION_TYPE_m</th>\n",
       "      <th>EXT_SOURCE_2_m</th>\n",
       "      <th>EXT_SOURCE_3_m</th>\n",
       "      <th>EXT_SOURCE_1_m</th>\n",
       "    </tr>\n",
       "  </thead>\n",
       "  <tbody>\n",
       "    <tr>\n",
       "      <th>0</th>\n",
       "      <td>100002</td>\n",
       "      <td>Cash loans</td>\n",
       "      <td>M</td>\n",
       "      <td>N</td>\n",
       "      <td>Y</td>\n",
       "      <td>0</td>\n",
       "      <td>202500.0</td>\n",
       "      <td>406597.5</td>\n",
       "      <td>24700.5</td>\n",
       "      <td>351000.0</td>\n",
       "      <td>...</td>\n",
       "      <td>2.0</td>\n",
       "      <td>(25, 30]</td>\n",
       "      <td>0</td>\n",
       "      <td>14.210239</td>\n",
       "      <td>0.083037</td>\n",
       "      <td>False</td>\n",
       "      <td>False</td>\n",
       "      <td>False</td>\n",
       "      <td>False</td>\n",
       "      <td>False</td>\n",
       "    </tr>\n",
       "    <tr>\n",
       "      <th>1</th>\n",
       "      <td>100003</td>\n",
       "      <td>Cash loans</td>\n",
       "      <td>F</td>\n",
       "      <td>N</td>\n",
       "      <td>N</td>\n",
       "      <td>0</td>\n",
       "      <td>270000.0</td>\n",
       "      <td>1293502.5</td>\n",
       "      <td>35698.5</td>\n",
       "      <td>1129500.0</td>\n",
       "      <td>...</td>\n",
       "      <td>3.0</td>\n",
       "      <td>(40, 50]</td>\n",
       "      <td>0</td>\n",
       "      <td>31.639985</td>\n",
       "      <td>0.311267</td>\n",
       "      <td>False</td>\n",
       "      <td>False</td>\n",
       "      <td>False</td>\n",
       "      <td>True</td>\n",
       "      <td>False</td>\n",
       "    </tr>\n",
       "    <tr>\n",
       "      <th>2</th>\n",
       "      <td>100004</td>\n",
       "      <td>Revolving loans</td>\n",
       "      <td>M</td>\n",
       "      <td>Y</td>\n",
       "      <td>Y</td>\n",
       "      <td>0</td>\n",
       "      <td>67500.0</td>\n",
       "      <td>135000.0</td>\n",
       "      <td>6750.0</td>\n",
       "      <td>135000.0</td>\n",
       "      <td>...</td>\n",
       "      <td>1.0</td>\n",
       "      <td>(50, 60]</td>\n",
       "      <td>0</td>\n",
       "      <td>20.000000</td>\n",
       "      <td>NaN</td>\n",
       "      <td>False</td>\n",
       "      <td>False</td>\n",
       "      <td>False</td>\n",
       "      <td>False</td>\n",
       "      <td>True</td>\n",
       "    </tr>\n",
       "    <tr>\n",
       "      <th>3</th>\n",
       "      <td>100006</td>\n",
       "      <td>Cash loans</td>\n",
       "      <td>F</td>\n",
       "      <td>N</td>\n",
       "      <td>Y</td>\n",
       "      <td>0</td>\n",
       "      <td>135000.0</td>\n",
       "      <td>312682.5</td>\n",
       "      <td>29686.5</td>\n",
       "      <td>297000.0</td>\n",
       "      <td>...</td>\n",
       "      <td>8.0</td>\n",
       "      <td>(50, 60]</td>\n",
       "      <td>0</td>\n",
       "      <td>10.004548</td>\n",
       "      <td>NaN</td>\n",
       "      <td>False</td>\n",
       "      <td>False</td>\n",
       "      <td>False</td>\n",
       "      <td>True</td>\n",
       "      <td>True</td>\n",
       "    </tr>\n",
       "    <tr>\n",
       "      <th>4</th>\n",
       "      <td>100007</td>\n",
       "      <td>Cash loans</td>\n",
       "      <td>M</td>\n",
       "      <td>N</td>\n",
       "      <td>Y</td>\n",
       "      <td>0</td>\n",
       "      <td>121500.0</td>\n",
       "      <td>513000.0</td>\n",
       "      <td>21865.5</td>\n",
       "      <td>513000.0</td>\n",
       "      <td>...</td>\n",
       "      <td>8.0</td>\n",
       "      <td>(50, 60]</td>\n",
       "      <td>0</td>\n",
       "      <td>23.461618</td>\n",
       "      <td>NaN</td>\n",
       "      <td>False</td>\n",
       "      <td>False</td>\n",
       "      <td>False</td>\n",
       "      <td>True</td>\n",
       "      <td>True</td>\n",
       "    </tr>\n",
       "    <tr>\n",
       "      <th>...</th>\n",
       "      <td>...</td>\n",
       "      <td>...</td>\n",
       "      <td>...</td>\n",
       "      <td>...</td>\n",
       "      <td>...</td>\n",
       "      <td>...</td>\n",
       "      <td>...</td>\n",
       "      <td>...</td>\n",
       "      <td>...</td>\n",
       "      <td>...</td>\n",
       "      <td>...</td>\n",
       "      <td>...</td>\n",
       "      <td>...</td>\n",
       "      <td>...</td>\n",
       "      <td>...</td>\n",
       "      <td>...</td>\n",
       "      <td>...</td>\n",
       "      <td>...</td>\n",
       "      <td>...</td>\n",
       "      <td>...</td>\n",
       "      <td>...</td>\n",
       "    </tr>\n",
       "    <tr>\n",
       "      <th>307506</th>\n",
       "      <td>456251</td>\n",
       "      <td>Cash loans</td>\n",
       "      <td>M</td>\n",
       "      <td>N</td>\n",
       "      <td>N</td>\n",
       "      <td>0</td>\n",
       "      <td>157500.0</td>\n",
       "      <td>254700.0</td>\n",
       "      <td>27558.0</td>\n",
       "      <td>225000.0</td>\n",
       "      <td>...</td>\n",
       "      <td>1.0</td>\n",
       "      <td>(25, 30]</td>\n",
       "      <td>0</td>\n",
       "      <td>8.164598</td>\n",
       "      <td>0.145570</td>\n",
       "      <td>False</td>\n",
       "      <td>False</td>\n",
       "      <td>False</td>\n",
       "      <td>True</td>\n",
       "      <td>False</td>\n",
       "    </tr>\n",
       "    <tr>\n",
       "      <th>307507</th>\n",
       "      <td>456252</td>\n",
       "      <td>Cash loans</td>\n",
       "      <td>F</td>\n",
       "      <td>N</td>\n",
       "      <td>Y</td>\n",
       "      <td>0</td>\n",
       "      <td>72000.0</td>\n",
       "      <td>269550.0</td>\n",
       "      <td>12001.5</td>\n",
       "      <td>225000.0</td>\n",
       "      <td>...</td>\n",
       "      <td>1001.0</td>\n",
       "      <td>(50, 60]</td>\n",
       "      <td>1</td>\n",
       "      <td>18.747657</td>\n",
       "      <td>NaN</td>\n",
       "      <td>False</td>\n",
       "      <td>True</td>\n",
       "      <td>False</td>\n",
       "      <td>True</td>\n",
       "      <td>True</td>\n",
       "    </tr>\n",
       "    <tr>\n",
       "      <th>307508</th>\n",
       "      <td>456253</td>\n",
       "      <td>Cash loans</td>\n",
       "      <td>F</td>\n",
       "      <td>N</td>\n",
       "      <td>Y</td>\n",
       "      <td>0</td>\n",
       "      <td>153000.0</td>\n",
       "      <td>677664.0</td>\n",
       "      <td>29979.0</td>\n",
       "      <td>585000.0</td>\n",
       "      <td>...</td>\n",
       "      <td>22.0</td>\n",
       "      <td>(40, 50]</td>\n",
       "      <td>0</td>\n",
       "      <td>19.513660</td>\n",
       "      <td>0.744026</td>\n",
       "      <td>False</td>\n",
       "      <td>False</td>\n",
       "      <td>False</td>\n",
       "      <td>False</td>\n",
       "      <td>False</td>\n",
       "    </tr>\n",
       "    <tr>\n",
       "      <th>307509</th>\n",
       "      <td>456254</td>\n",
       "      <td>Cash loans</td>\n",
       "      <td>F</td>\n",
       "      <td>N</td>\n",
       "      <td>Y</td>\n",
       "      <td>0</td>\n",
       "      <td>171000.0</td>\n",
       "      <td>370107.0</td>\n",
       "      <td>20205.0</td>\n",
       "      <td>319500.0</td>\n",
       "      <td>...</td>\n",
       "      <td>13.0</td>\n",
       "      <td>(30, 40]</td>\n",
       "      <td>0</td>\n",
       "      <td>15.812918</td>\n",
       "      <td>NaN</td>\n",
       "      <td>False</td>\n",
       "      <td>False</td>\n",
       "      <td>False</td>\n",
       "      <td>False</td>\n",
       "      <td>True</td>\n",
       "    </tr>\n",
       "    <tr>\n",
       "      <th>307510</th>\n",
       "      <td>456255</td>\n",
       "      <td>Cash loans</td>\n",
       "      <td>F</td>\n",
       "      <td>N</td>\n",
       "      <td>N</td>\n",
       "      <td>0</td>\n",
       "      <td>157500.0</td>\n",
       "      <td>675000.0</td>\n",
       "      <td>49117.5</td>\n",
       "      <td>675000.0</td>\n",
       "      <td>...</td>\n",
       "      <td>3.0</td>\n",
       "      <td>(40, 50]</td>\n",
       "      <td>0</td>\n",
       "      <td>13.742556</td>\n",
       "      <td>0.734460</td>\n",
       "      <td>False</td>\n",
       "      <td>False</td>\n",
       "      <td>False</td>\n",
       "      <td>False</td>\n",
       "      <td>False</td>\n",
       "    </tr>\n",
       "  </tbody>\n",
       "</table>\n",
       "<p>307511 rows × 83 columns</p>\n",
       "</div>"
      ],
      "text/plain": [
       "        SK_ID_CURR NAME_CONTRACT_TYPE CODE_GENDER FLAG_OWN_CAR  \\\n",
       "0           100002         Cash loans           M            N   \n",
       "1           100003         Cash loans           F            N   \n",
       "2           100004    Revolving loans           M            Y   \n",
       "3           100006         Cash loans           F            N   \n",
       "4           100007         Cash loans           M            N   \n",
       "...            ...                ...         ...          ...   \n",
       "307506      456251         Cash loans           M            N   \n",
       "307507      456252         Cash loans           F            N   \n",
       "307508      456253         Cash loans           F            N   \n",
       "307509      456254         Cash loans           F            N   \n",
       "307510      456255         Cash loans           F            N   \n",
       "\n",
       "       FLAG_OWN_REALTY  CNT_CHILDREN  AMT_INCOME_TOTAL  AMT_CREDIT  \\\n",
       "0                    Y             0          202500.0    406597.5   \n",
       "1                    N             0          270000.0   1293502.5   \n",
       "2                    Y             0           67500.0    135000.0   \n",
       "3                    Y             0          135000.0    312682.5   \n",
       "4                    Y             0          121500.0    513000.0   \n",
       "...                ...           ...               ...         ...   \n",
       "307506               N             0          157500.0    254700.0   \n",
       "307507               Y             0           72000.0    269550.0   \n",
       "307508               Y             0          153000.0    677664.0   \n",
       "307509               Y             0          171000.0    370107.0   \n",
       "307510               N             0          157500.0    675000.0   \n",
       "\n",
       "        AMT_ANNUITY  AMT_GOODS_PRICE  ... YEAR_EMPLOYED AGE_RANGE  \\\n",
       "0           24700.5         351000.0  ...           2.0  (25, 30]   \n",
       "1           35698.5        1129500.0  ...           3.0  (40, 50]   \n",
       "2            6750.0         135000.0  ...           1.0  (50, 60]   \n",
       "3           29686.5         297000.0  ...           8.0  (50, 60]   \n",
       "4           21865.5         513000.0  ...           8.0  (50, 60]   \n",
       "...             ...              ...  ...           ...       ...   \n",
       "307506      27558.0         225000.0  ...           1.0  (25, 30]   \n",
       "307507      12001.5         225000.0  ...        1001.0  (50, 60]   \n",
       "307508      29979.0         585000.0  ...          22.0  (40, 50]   \n",
       "307509      20205.0         319500.0  ...          13.0  (30, 40]   \n",
       "307510      49117.5         675000.0  ...           3.0  (40, 50]   \n",
       "\n",
       "       DAYS_EMPLOYED_ERROR YEAR_CONTRACT EXT_SOURCE_1  NAME_TYPE_SUITE_m  \\\n",
       "0                        0     14.210239     0.083037              False   \n",
       "1                        0     31.639985     0.311267              False   \n",
       "2                        0     20.000000          NaN              False   \n",
       "3                        0     10.004548          NaN              False   \n",
       "4                        0     23.461618          NaN              False   \n",
       "...                    ...           ...          ...                ...   \n",
       "307506                   0      8.164598     0.145570              False   \n",
       "307507                   1     18.747657          NaN              False   \n",
       "307508                   0     19.513660     0.744026              False   \n",
       "307509                   0     15.812918          NaN              False   \n",
       "307510                   0     13.742556     0.734460              False   \n",
       "\n",
       "        OCCUPATION_TYPE_m  EXT_SOURCE_2_m  EXT_SOURCE_3_m  EXT_SOURCE_1_m  \n",
       "0                   False           False           False           False  \n",
       "1                   False           False            True           False  \n",
       "2                   False           False           False            True  \n",
       "3                   False           False            True            True  \n",
       "4                   False           False            True            True  \n",
       "...                   ...             ...             ...             ...  \n",
       "307506              False           False            True           False  \n",
       "307507               True           False            True            True  \n",
       "307508              False           False           False           False  \n",
       "307509              False           False           False            True  \n",
       "307510              False           False           False           False  \n",
       "\n",
       "[307511 rows x 83 columns]"
      ]
     },
     "execution_count": 51,
     "metadata": {},
     "output_type": "execute_result"
    }
   ],
   "source": [
    "for i in [ i for i in df1.columns if df1[i].isnull().any()]:\n",
    "  df1[i+'_m'] = np.where(df1[i].isnull(),True,False)\n",
    "df1"
   ]
  },
  {
   "cell_type": "code",
   "execution_count": 52,
   "metadata": {
    "id": "ovbElszYIkJY"
   },
   "outputs": [
    {
     "name": "stdout",
     "output_type": "stream",
     "text": [
      "SK_ID_CURR\n",
      "307511\n",
      "CNT_CHILDREN\n",
      "15\n",
      "AMT_INCOME_TOTAL\n",
      "2548\n",
      "AMT_CREDIT\n",
      "5603\n",
      "AMT_ANNUITY\n",
      "13673\n",
      "AMT_GOODS_PRICE\n",
      "1002\n",
      "REGION_POPULATION_RELATIVE\n",
      "81\n",
      "DAYS_BIRTH\n",
      "17460\n",
      "DAYS_EMPLOYED\n",
      "12573\n",
      "DAYS_REGISTRATION\n",
      "15688\n",
      "DAYS_ID_PUBLISH\n",
      "6168\n",
      "FLAG_MOBIL\n",
      "2\n",
      "FLAG_EMP_PHONE\n",
      "2\n",
      "FLAG_WORK_PHONE\n",
      "2\n",
      "FLAG_CONT_MOBILE\n",
      "2\n",
      "FLAG_PHONE\n",
      "2\n",
      "FLAG_EMAIL\n",
      "2\n",
      "CNT_FAM_MEMBERS\n",
      "18\n",
      "REGION_RATING_CLIENT\n",
      "3\n",
      "REGION_RATING_CLIENT_W_CITY\n",
      "3\n",
      "HOUR_APPR_PROCESS_START\n",
      "24\n",
      "REG_REGION_NOT_LIVE_REGION\n",
      "2\n",
      "REG_REGION_NOT_WORK_REGION\n",
      "2\n",
      "LIVE_REGION_NOT_WORK_REGION\n",
      "2\n",
      "REG_CITY_NOT_LIVE_CITY\n",
      "2\n",
      "REG_CITY_NOT_WORK_CITY\n",
      "2\n",
      "LIVE_CITY_NOT_WORK_CITY\n",
      "2\n",
      "EXT_SOURCE_2\n",
      "119831\n",
      "EXT_SOURCE_3\n",
      "814\n",
      "OBS_30_CNT_SOCIAL_CIRCLE\n",
      "33\n",
      "DEF_30_CNT_SOCIAL_CIRCLE\n",
      "10\n",
      "OBS_60_CNT_SOCIAL_CIRCLE\n",
      "33\n",
      "DEF_60_CNT_SOCIAL_CIRCLE\n",
      "9\n",
      "DAYS_LAST_PHONE_CHANGE\n",
      "3773\n",
      "FLAG_DOCUMENT_2\n",
      "2\n",
      "FLAG_DOCUMENT_3\n",
      "2\n",
      "FLAG_DOCUMENT_4\n",
      "2\n",
      "FLAG_DOCUMENT_5\n",
      "2\n",
      "FLAG_DOCUMENT_6\n",
      "2\n",
      "FLAG_DOCUMENT_7\n",
      "2\n",
      "FLAG_DOCUMENT_8\n",
      "2\n",
      "FLAG_DOCUMENT_9\n",
      "2\n",
      "FLAG_DOCUMENT_10\n",
      "2\n",
      "FLAG_DOCUMENT_11\n",
      "2\n",
      "FLAG_DOCUMENT_12\n",
      "2\n",
      "FLAG_DOCUMENT_13\n",
      "2\n",
      "FLAG_DOCUMENT_14\n",
      "2\n",
      "FLAG_DOCUMENT_15\n",
      "2\n",
      "FLAG_DOCUMENT_16\n",
      "2\n",
      "FLAG_DOCUMENT_17\n",
      "2\n",
      "FLAG_DOCUMENT_18\n",
      "2\n",
      "FLAG_DOCUMENT_19\n",
      "2\n",
      "FLAG_DOCUMENT_20\n",
      "2\n",
      "FLAG_DOCUMENT_21\n",
      "2\n",
      "AMT_REQ_CREDIT_BUREAU_HOUR\n",
      "5\n",
      "AMT_REQ_CREDIT_BUREAU_DAY\n",
      "9\n",
      "AMT_REQ_CREDIT_BUREAU_WEEK\n",
      "9\n",
      "AMT_REQ_CREDIT_BUREAU_MON\n",
      "24\n",
      "AMT_REQ_CREDIT_BUREAU_QRT\n",
      "11\n",
      "AMT_REQ_CREDIT_BUREAU_YEAR\n",
      "25\n",
      "AGE\n",
      "49\n",
      "YEAR_EMPLOYED\n",
      "51\n",
      "DAYS_EMPLOYED_ERROR\n",
      "2\n",
      "YEAR_CONTRACT\n",
      "36432\n",
      "EXT_SOURCE_1\n",
      "114584\n"
     ]
    }
   ],
   "source": [
    "for col in df1.select_dtypes(include='number'):\n",
    "    print(col)\n",
    "    q = df1[col].nunique()\n",
    "    print(q)\n",
    "    if q > 20 :\n",
    "        q = round(q /2)\n",
    "        df1[col] =pd.qcut(df1[col], q=q,duplicates='drop').astype('category')\n",
    "    else:\n",
    "        df1[col] =pd.qcut(df1[col], q=q,duplicates='drop').astype('category')\n",
    "   "
   ]
  },
  {
   "cell_type": "code",
   "execution_count": 53,
   "metadata": {
    "id": "a2CST-MIF1Gq"
   },
   "outputs": [
    {
     "name": "stdout",
     "output_type": "stream",
     "text": [
      "<class 'pandas.core.frame.DataFrame'>\n",
      "RangeIndex: 307511 entries, 0 to 307510\n",
      "Data columns (total 83 columns):\n",
      " #   Column                       Non-Null Count   Dtype   \n",
      "---  ------                       --------------   -----   \n",
      " 0   SK_ID_CURR                   307511 non-null  category\n",
      " 1   NAME_CONTRACT_TYPE           307511 non-null  object  \n",
      " 2   CODE_GENDER                  307511 non-null  object  \n",
      " 3   FLAG_OWN_CAR                 307511 non-null  object  \n",
      " 4   FLAG_OWN_REALTY              307511 non-null  object  \n",
      " 5   CNT_CHILDREN                 307511 non-null  category\n",
      " 6   AMT_INCOME_TOTAL             307511 non-null  category\n",
      " 7   AMT_CREDIT                   307511 non-null  category\n",
      " 8   AMT_ANNUITY                  307511 non-null  category\n",
      " 9   AMT_GOODS_PRICE              307511 non-null  category\n",
      " 10  NAME_TYPE_SUITE              306219 non-null  object  \n",
      " 11  NAME_INCOME_TYPE             307511 non-null  object  \n",
      " 12  NAME_EDUCATION_TYPE          307511 non-null  object  \n",
      " 13  NAME_FAMILY_STATUS           307511 non-null  object  \n",
      " 14  NAME_HOUSING_TYPE            307511 non-null  object  \n",
      " 15  REGION_POPULATION_RELATIVE   307511 non-null  category\n",
      " 16  DAYS_BIRTH                   307511 non-null  category\n",
      " 17  DAYS_EMPLOYED                307511 non-null  category\n",
      " 18  DAYS_REGISTRATION            307511 non-null  category\n",
      " 19  DAYS_ID_PUBLISH              307511 non-null  category\n",
      " 20  FLAG_MOBIL                   307511 non-null  category\n",
      " 21  FLAG_EMP_PHONE               307511 non-null  category\n",
      " 22  FLAG_WORK_PHONE              307511 non-null  category\n",
      " 23  FLAG_CONT_MOBILE             307511 non-null  category\n",
      " 24  FLAG_PHONE                   307511 non-null  category\n",
      " 25  FLAG_EMAIL                   307511 non-null  category\n",
      " 26  OCCUPATION_TYPE              211120 non-null  object  \n",
      " 27  CNT_FAM_MEMBERS              307511 non-null  category\n",
      " 28  REGION_RATING_CLIENT         307511 non-null  category\n",
      " 29  REGION_RATING_CLIENT_W_CITY  307511 non-null  category\n",
      " 30  WEEKDAY_APPR_PROCESS_START   307511 non-null  object  \n",
      " 31  HOUR_APPR_PROCESS_START      307511 non-null  category\n",
      " 32  REG_REGION_NOT_LIVE_REGION   307511 non-null  category\n",
      " 33  REG_REGION_NOT_WORK_REGION   307511 non-null  category\n",
      " 34  LIVE_REGION_NOT_WORK_REGION  307511 non-null  category\n",
      " 35  REG_CITY_NOT_LIVE_CITY       307511 non-null  category\n",
      " 36  REG_CITY_NOT_WORK_CITY       307511 non-null  category\n",
      " 37  LIVE_CITY_NOT_WORK_CITY      307511 non-null  category\n",
      " 38  ORGANIZATION_TYPE            307511 non-null  object  \n",
      " 39  EXT_SOURCE_2                 306851 non-null  category\n",
      " 40  EXT_SOURCE_3                 246546 non-null  category\n",
      " 41  OBS_30_CNT_SOCIAL_CIRCLE     307511 non-null  category\n",
      " 42  DEF_30_CNT_SOCIAL_CIRCLE     307511 non-null  category\n",
      " 43  OBS_60_CNT_SOCIAL_CIRCLE     307511 non-null  category\n",
      " 44  DEF_60_CNT_SOCIAL_CIRCLE     307511 non-null  category\n",
      " 45  DAYS_LAST_PHONE_CHANGE       307511 non-null  category\n",
      " 46  FLAG_DOCUMENT_2              307511 non-null  category\n",
      " 47  FLAG_DOCUMENT_3              307511 non-null  category\n",
      " 48  FLAG_DOCUMENT_4              307511 non-null  category\n",
      " 49  FLAG_DOCUMENT_5              307511 non-null  category\n",
      " 50  FLAG_DOCUMENT_6              307511 non-null  category\n",
      " 51  FLAG_DOCUMENT_7              307511 non-null  category\n",
      " 52  FLAG_DOCUMENT_8              307511 non-null  category\n",
      " 53  FLAG_DOCUMENT_9              307511 non-null  category\n",
      " 54  FLAG_DOCUMENT_10             307511 non-null  category\n",
      " 55  FLAG_DOCUMENT_11             307511 non-null  category\n",
      " 56  FLAG_DOCUMENT_12             307511 non-null  category\n",
      " 57  FLAG_DOCUMENT_13             307511 non-null  category\n",
      " 58  FLAG_DOCUMENT_14             307511 non-null  category\n",
      " 59  FLAG_DOCUMENT_15             307511 non-null  category\n",
      " 60  FLAG_DOCUMENT_16             307511 non-null  category\n",
      " 61  FLAG_DOCUMENT_17             307511 non-null  category\n",
      " 62  FLAG_DOCUMENT_18             307511 non-null  category\n",
      " 63  FLAG_DOCUMENT_19             307511 non-null  category\n",
      " 64  FLAG_DOCUMENT_20             307511 non-null  category\n",
      " 65  FLAG_DOCUMENT_21             307511 non-null  category\n",
      " 66  AMT_REQ_CREDIT_BUREAU_HOUR   307511 non-null  category\n",
      " 67  AMT_REQ_CREDIT_BUREAU_DAY    307511 non-null  category\n",
      " 68  AMT_REQ_CREDIT_BUREAU_WEEK   307511 non-null  category\n",
      " 69  AMT_REQ_CREDIT_BUREAU_MON    307511 non-null  category\n",
      " 70  AMT_REQ_CREDIT_BUREAU_QRT    307511 non-null  category\n",
      " 71  AMT_REQ_CREDIT_BUREAU_YEAR   307511 non-null  category\n",
      " 72  AGE                          307511 non-null  category\n",
      " 73  YEAR_EMPLOYED                307511 non-null  category\n",
      " 74  AGE_RANGE                    307511 non-null  category\n",
      " 75  DAYS_EMPLOYED_ERROR          307511 non-null  category\n",
      " 76  YEAR_CONTRACT                307511 non-null  category\n",
      " 77  EXT_SOURCE_1                 134133 non-null  category\n",
      " 78  NAME_TYPE_SUITE_m            307511 non-null  bool    \n",
      " 79  OCCUPATION_TYPE_m            307511 non-null  bool    \n",
      " 80  EXT_SOURCE_2_m               307511 non-null  bool    \n",
      " 81  EXT_SOURCE_3_m               307511 non-null  bool    \n",
      " 82  EXT_SOURCE_1_m               307511 non-null  bool    \n",
      "dtypes: bool(5), category(66), object(12)\n",
      "memory usage: 70.7+ MB\n"
     ]
    }
   ],
   "source": [
    "df1.info()"
   ]
  },
  {
   "cell_type": "code",
   "execution_count": null,
   "metadata": {
    "id": "b3oMwDqlF87X"
   },
   "outputs": [],
   "source": [
    "# Cramer use for check correlation between columns like chisq test for test H0 and H1 ?????\n",
    "import association_metrics as am\n",
    "\n",
    "df_category = df1.apply(lambda x: x.astype(\"category\") if x.dtype == \"bool\" else x)\n",
    "cramersv = am.CramersV(df_category)\n",
    "\n",
    "cramersv.fit()[['NAME_TYPE_SUITE_m','OCCUPATION_TYPE_m','EXT_SOURCE_2_m','EXT_SOURCE_3_m','EXT_SOURCE_1_m']][:19]"
   ]
  },
  {
   "cell_type": "code",
   "execution_count": null,
   "metadata": {
    "id": "p6aNcR6uCLdl"
   },
   "outputs": [],
   "source": [
    "# Get a Pd.Series consisting of all the string categoricals\n",
    "one_hot_encode_cols = mod_df.dtypes[mod_df.dtypes == np.object]  # filtering by string categoricals\n",
    "one_hot_encode_cols = one_hot_encode_cols.index.tolist()  # list of categorical fields\n",
    "print(one_hot_encode_cols)\n",
    "#mod_df[one_hot_encode_cols].head().T"
   ]
  },
  {
   "cell_type": "code",
   "execution_count": null,
   "metadata": {
    "id": "fAUsTa9WND0z"
   },
   "outputs": [],
   "source": [
    "mod_df1 = pd.get_dummies(mod_df, columns=one_hot_encode_cols, drop_first=True)\n",
    "mod_df1.describe().T"
   ]
  },
  {
   "cell_type": "code",
   "execution_count": null,
   "metadata": {
    "id": "ovQlrqU5E_cY"
   },
   "outputs": [],
   "source": [
    "sns.boxplot(x=mod_df['DAYS_LAST_PHONE_CHANGE'])"
   ]
  },
  {
   "cell_type": "code",
   "execution_count": null,
   "metadata": {
    "id": "bfxVAO4Ek0Cl"
   },
   "outputs": [],
   "source": [
    "sns.displot(data=mod_df, x='DEF_30_CNT_SOCIAL_CIRCLE')"
   ]
  },
  {
   "cell_type": "code",
   "execution_count": null,
   "metadata": {
    "id": "M6MW54IJPg3O"
   },
   "outputs": [],
   "source": [
    "mod_df1.columns"
   ]
  },
  {
   "cell_type": "code",
   "execution_count": null,
   "metadata": {
    "id": "jCG70ZrbSc7-"
   },
   "outputs": [],
   "source": [
    "mod_df1.info(verbose=True)"
   ]
  },
  {
   "cell_type": "code",
   "execution_count": null,
   "metadata": {
    "id": "dTSFJBcFOe8s"
   },
   "outputs": [],
   "source": [
    "mod_df1 = mod_df1.drop(['DAYS_EMPLOYED','AGE_RANGE','DAYS_BIRTH','DAYS_LAST_PHONE_CHANGE'],axis=1)\n",
    "#mod_df1.drop([\"TARGET\",\"AGE_RANGE\"], axis=1).apply(lambda x: x.corr(mod_df1.TARGET)).sort_values(ascending=False)\n",
    "\n",
    "correlations = mod_df1.corr()['TARGET'].sort_values()\n",
    "\n",
    "# Display correlations\n",
    "print('Most Positive Correlations:\\n', correlations.tail(15))\n",
    "print('\\nMost Negative Correlations:\\n', correlations.head(15))"
   ]
  },
  {
   "cell_type": "markdown",
   "metadata": {
    "id": "N4cbeWziET-v"
   },
   "source": [
    "### Key Findings and Insights\n",
    "- Low-skill Laborers have higest percentage of not pay \n",
    "- most of clint not have a child and No. of children not impact percentage of not pay \n",
    "- Hosing type of Rented apartment and with parent it higher percentage of not pay"
   ]
  },
  {
   "cell_type": "code",
   "execution_count": null,
   "metadata": {
    "id": "XrL9sY4i9T7w"
   },
   "outputs": [],
   "source": [
    "mod_df['OCCUPATION_TYPE'].value_counts()"
   ]
  },
  {
   "cell_type": "code",
   "execution_count": null,
   "metadata": {
    "id": "AB-HY7-H9-AW"
   },
   "outputs": [],
   "source": [
    "percentage = mod_df.groupby([\"OCCUPATION_TYPE\", \"TARGET\"]).size().reset_index()\n",
    "percentage['%'] = percentage[0] / percentage.groupby(\"OCCUPATION_TYPE\")[0].transform('sum') * 100"
   ]
  },
  {
   "cell_type": "code",
   "execution_count": null,
   "metadata": {
    "id": "I9IBtzMgKZvw"
   },
   "outputs": [],
   "source": [
    "# accountant lowest percentage and Low-skill Labors Highest \n",
    "percentage[percentage['TARGET']==1].sort_values(by='%',ascending=False)"
   ]
  },
  {
   "cell_type": "code",
   "execution_count": null,
   "metadata": {
    "id": "cL2SLqXX6meA"
   },
   "outputs": [],
   "source": [
    "# Laborers\t164240.355724 exclude 11700000000\n",
    "chidren = mod_df[mod_df['AMT_INCOME_TOTAL'] < 1170000000 ]\n",
    "income = chidren.groupby(\"OCCUPATION_TYPE\")[\"AMT_INCOME_TOTAL\"].mean().reset_index()\n",
    "income.sort_values(by='AMT_INCOME_TOTAL')"
   ]
  },
  {
   "cell_type": "code",
   "execution_count": null,
   "metadata": {
    "id": "-ef_PyAq_2nW"
   },
   "outputs": [],
   "source": [
    "\n",
    "sns.displot(data=mod_df, x=\"AMT_REQ_CREDIT_BUREAU_MON\")"
   ]
  },
  {
   "cell_type": "code",
   "execution_count": null,
   "metadata": {
    "id": "0ejZg3MaJcCn"
   },
   "outputs": [],
   "source": [
    "cnt = mod_df['CNT_CHILDREN'].value_counts().reset_index()\n",
    "sns.barplot(x = 'index',y = 'CNT_CHILDREN',data = cnt)\n",
    "plt.show()"
   ]
  },
  {
   "cell_type": "code",
   "execution_count": null,
   "metadata": {
    "id": "UsIBVE4tyL_M"
   },
   "outputs": [],
   "source": [
    "child = mod_df.groupby([\"NAME_EDUCATION_TYPE\", \"TARGET\"]).size().reset_index()\n",
    "child['%'] = child[0] / child.groupby(\"NAME_EDUCATION_TYPE\")[0].transform('sum') * 100\n",
    "child"
   ]
  },
  {
   "cell_type": "code",
   "execution_count": null,
   "metadata": {
    "id": "D7WMqf-B1hHF"
   },
   "outputs": [],
   "source": [
    "child = mod_df.groupby([\"NAME_HOUSING_TYPE\", \"TARGET\"]).size().reset_index()\n",
    "child['%'] = child[0] / child.groupby(\"NAME_HOUSING_TYPE\")[0].transform('sum') * 100\n",
    "child"
   ]
  },
  {
   "cell_type": "code",
   "execution_count": null,
   "metadata": {
    "id": "IgCJumjXNlsa"
   },
   "outputs": [],
   "source": [
    "mod_df1.head(10)"
   ]
  },
  {
   "cell_type": "code",
   "execution_count": null,
   "metadata": {
    "id": "pulEax9pFQb4"
   },
   "outputs": [],
   "source": [
    "\n",
    "sns.kdeplot(data=mod_df, x=\"AMT_REQ_CREDIT_BUREAU_QRT\")"
   ]
  },
  {
   "cell_type": "code",
   "execution_count": null,
   "metadata": {
    "id": "_CTB2JKLMIAe"
   },
   "outputs": [],
   "source": [
    "mod_df['AMT_INCOME_TOTAL'].max()"
   ]
  },
  {
   "cell_type": "code",
   "execution_count": null,
   "metadata": {
    "id": "M02Bq7eREWqT"
   },
   "outputs": [],
   "source": [
    "# Create a list of float colums to check for skewing\n",
    "mask = mod_df.dtypes == np.float\n",
    "float_cols = mod_df.columns[mask]\n",
    "\n",
    "skew_limit = 0.75 # define a limit above which we will log transform\n",
    "skew_vals = mod_df[float_cols].skew()"
   ]
  },
  {
   "cell_type": "code",
   "execution_count": null,
   "metadata": {
    "id": "FKE7nc76EXpR"
   },
   "outputs": [],
   "source": [
    "# Showing the skewed columns\n",
    "skew_cols = (skew_vals\n",
    "             .sort_values(ascending=False)\n",
    "             .to_frame()\n",
    "             .rename(columns={0:'Skew'})\n",
    "             .query('abs(Skew) > {}'.format(skew_limit)))\n",
    "\n",
    "skew_cols"
   ]
  },
  {
   "cell_type": "code",
   "execution_count": null,
   "metadata": {
    "id": "mB_xmXDLR-Tp"
   },
   "outputs": [],
   "source": [
    "mod_df[['SK_ID_CURR','AMT_INCOME_TOTAL']].sort_values(by='AMT_INCOME_TOTAL',ascending=False)"
   ]
  },
  {
   "cell_type": "markdown",
   "metadata": {
    "id": "neENiF2IGUuM"
   },
   "source": [
    "### Formulating at least 3 hypothesis about this data"
   ]
  },
  {
   "cell_type": "markdown",
   "metadata": {
    "id": "kYMJQabeGX4t"
   },
   "source": [
    "### Conducting a formal significance test for one of the hypotheses and discuss the results"
   ]
  },
  {
   "cell_type": "markdown",
   "metadata": {
    "id": "Xr7B5BNYRyPk"
   },
   "source": [
    "\n",
    "H_A:μ_1−μ_2≠0  There is no difference between the BMI of male and BMI of female.\n",
    "\n",
    "H_A:μ_1−μ_2≠0  There is a difference between the BMI of male and BMI of female."
   ]
  },
  {
   "cell_type": "code",
   "execution_count": null,
   "metadata": {
    "id": "9lswVd9MSRKn"
   },
   "outputs": [],
   "source": [
    "mod_df['CODE_GENDER'].unique()"
   ]
  },
  {
   "cell_type": "code",
   "execution_count": null,
   "metadata": {
    "id": "eWHlpvAdGdo5"
   },
   "outputs": [],
   "source": [
    "female=mod_df.loc[mod_df.CODE_GENDER==\"F\"]\n",
    "male=mod_df.loc[mod_df.CODE_GENDER==\"M\"]"
   ]
  },
  {
   "cell_type": "code",
   "execution_count": null,
   "metadata": {
    "id": "KMkESXy1ShmW"
   },
   "outputs": [],
   "source": [
    "f_bmi = female.AMT_INCOME_TOTAL\n",
    "m_bmi = male.AMT_INCOME_TOTAL\n",
    "print(m_bmi)"
   ]
  },
  {
   "cell_type": "code",
   "execution_count": null,
   "metadata": {
    "id": "x58xgMChShvH"
   },
   "outputs": [],
   "source": [
    "sns.distplot(f_bmi,color='green',hist=False)\n",
    "sns.distplot(m_bmi,color='red',hist=False)"
   ]
  },
  {
   "cell_type": "code",
   "execution_count": null,
   "metadata": {
    "id": "8fAkZV-oShyy"
   },
   "outputs": [],
   "source": [
    "female.AMT_INCOME_TOTAL.mean()"
   ]
  },
  {
   "cell_type": "code",
   "execution_count": null,
   "metadata": {
    "id": "4D7C-MsESh1V"
   },
   "outputs": [],
   "source": [
    "male.AMT_INCOME_TOTAL.mean()"
   ]
  },
  {
   "cell_type": "code",
   "execution_count": null,
   "metadata": {
    "id": "REOkVMbRS7HX"
   },
   "outputs": [],
   "source": [
    "import scipy.stats as stats \n",
    "from scipy.stats import chi2_contingency\n",
    "\n",
    "from statsmodels.formula.api import ols\n",
    "from statsmodels.stats.anova import anova_lm \n",
    "alpha=0.05\n",
    "t_value1, p_value1 = stats.ttest_ind(m_bmi, f_bmi)\n",
    "print(\"t_value1 = \",t_value1, \", p_value1 = \", p_value1)"
   ]
  },
  {
   "cell_type": "code",
   "execution_count": null,
   "metadata": {
    "id": "xsDqIw5aTEsX"
   },
   "outputs": [],
   "source": [
    "if p_value1 <alpha:\n",
    "    print(\"Conclusion: since p_value {} is less than alpha {} \". format (p_value1,alpha))\n",
    "    print(\"Reject the null hypothesis that there is no difference between AMT_INCOME_TOTAL of females and AMT_INCOME_TOTAL of males.\")\n",
    "    \n",
    "else:\n",
    "    print(\"Conclusion: since p_value {} is greater than alpha {} \". format (p_value1,alpha))\n",
    "    print(\"Fail to reject the null hypothesis that there is a difference between AMT_INCOME_TOTAL of females and AMT_INCOME_TOTAL of males.\")"
   ]
  },
  {
   "cell_type": "code",
   "execution_count": null,
   "metadata": {
    "id": "Wsm27l-mu6Xk"
   },
   "outputs": [],
   "source": [
    "female_children = female.loc[female['CNT_CHILDREN']<=5]"
   ]
  },
  {
   "cell_type": "code",
   "execution_count": null,
   "metadata": {
    "id": "l1WvnTyDuElW"
   },
   "outputs": [],
   "source": [
    "female_children.groupby([female_children.CNT_CHILDREN]).mean().AMT_INCOME_TOTAL"
   ]
  },
  {
   "cell_type": "code",
   "execution_count": null,
   "metadata": {
    "id": "BYY8N8wQuEvv"
   },
   "outputs": [],
   "source": [
    "sns.boxplot(x=\"CNT_CHILDREN\", y=\"AMT_INCOME_TOTAL\", data=female_children)\n",
    "plt.grid()\n",
    "plt.show()"
   ]
  },
  {
   "cell_type": "code",
   "execution_count": null,
   "metadata": {
    "id": "szE1u8nQvleD"
   },
   "outputs": [],
   "source": [
    "formula = 'AMT_INCOME_TOTAL ~ C(CNT_CHILDREN)'\n",
    "model = ols(formula, female_children).fit()\n",
    "aov_table = anova_lm(model)\n",
    "aov_table"
   ]
  },
  {
   "cell_type": "markdown",
   "metadata": {
    "id": "TV37RjIjwByK"
   },
   "source": [
    "Conclusion. p-value is 0.000948 and it is lower than the alpha (0.05), therefore we  reject the null hypothesis and conclude that the mean AMT_INCOME_TOTA of famliy with no until five children are the different."
   ]
  },
  {
   "cell_type": "code",
   "execution_count": null,
   "metadata": {
    "id": "Zq9Pf13kwhH0"
   },
   "outputs": [],
   "source": [
    "contingency= pd.crosstab(mod_df.NAME_HOUSING_TYPE, mod_df.TARGET)\n",
    "contingency"
   ]
  },
  {
   "cell_type": "code",
   "execution_count": null,
   "metadata": {
    "id": "syARCR2HwhPY"
   },
   "outputs": [],
   "source": [
    " contingency.plot(kind='bar')"
   ]
  },
  {
   "cell_type": "code",
   "execution_count": null,
   "metadata": {
    "id": "XP_rlobTw6E7"
   },
   "outputs": [],
   "source": [
    "chi2, p_val, dof, exp_freq = chi2_contingency(contingency, correction = False)\n",
    "print('chi-square statistic: {} , p_value: {} , degree of freedom: {} ,expected frequencies: {} '.format(chi2, p_val, dof, exp_freq))"
   ]
  },
  {
   "cell_type": "code",
   "execution_count": null,
   "metadata": {
    "id": "TV-AES07w6St"
   },
   "outputs": [],
   "source": [
    "if (p_val < 0.05):\n",
    "    print('Reject the null hypothesis, that the TARGET proportions from HOUSING_TYPE are not significantly different across the different regions')\n",
    "else:\n",
    "    print('Accept the null hypothesis, that the TARGET proportions from HOUSING_TYPE s are not significantly different across the different regions')"
   ]
  },
  {
   "cell_type": "markdown",
   "metadata": {
    "id": "dszJpI5vGdzK"
   },
   "source": [
    "### Suggestions for next steps in analyzing this data\n",
    "\n",
    "#### A paragraph that summarizes the quality of this data set and a request for additional data if needed"
   ]
  },
  {
   "cell_type": "markdown",
   "metadata": {
    "id": "61VLgssr_2xW"
   },
   "source": [
    "- this dataset have 122 columns but 50 columns have more 50 percent missing value and column DAYS_EMPLOYED have differrent format and AMT_INCOME_TOTAL is very spread and many outlier next step will make credit score and use anlysis EX_1 EX_2 EX_3\n",
    "if we can collect more data we should collect expense per month of client it help to decide base on financial status of client "
   ]
  },
  {
   "cell_type": "code",
   "execution_count": null,
   "metadata": {
    "id": "1_nQnKhXGmPN"
   },
   "outputs": [],
   "source": []
  }
 ],
 "metadata": {
  "accelerator": "GPU",
  "colab": {
   "private_outputs": true,
   "provenance": [],
   "toc_visible": true
  },
  "gpuClass": "standard",
  "kernelspec": {
   "display_name": "Python 3",
   "language": "python",
   "name": "python3"
  },
  "language_info": {
   "codemirror_mode": {
    "name": "ipython",
    "version": 3
   },
   "file_extension": ".py",
   "mimetype": "text/x-python",
   "name": "python",
   "nbconvert_exporter": "python",
   "pygments_lexer": "ipython3",
   "version": "3.8.5"
  }
 },
 "nbformat": 4,
 "nbformat_minor": 1
}
